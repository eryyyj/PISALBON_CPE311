{
 "cells": [
  {
   "cell_type": "code",
   "execution_count": null,
   "id": "9a1624af",
   "metadata": {},
   "outputs": [
    {
     "name": "stdout",
     "output_type": "stream",
     "text": [
      "Enter the number of elements in the sequence: 4\n",
      "Enter the value of the element: 12\n",
      "Enter the value of the element: 1\n",
      "Enter the value of the element: 2\n",
      "Enter the value of the element: 3\n",
      "3\n",
      "Enter the number of elements in the sequence: 4\n",
      "Enter the value of the element: 5\n",
      "Enter the value of the element: 6\n",
      "Enter the value of the element: 7\n",
      "Enter the value of the element: 8\n",
      "24\n",
      "Enter the number of elements in the sequence: 9\n",
      "Enter the value of the element: 1\n",
      "Enter the value of the element: 2\n",
      "Enter the value of the element: 3\n",
      "Enter the value of the element: 4\n"
     ]
    }
   ],
   "source": [
    "sequence = []\n",
    "a = True\n",
    "memory = {}\n",
    "ctr = 1\n",
    "while True:\n",
    "    max = 0\n",
    "    numberOfElements = int(input('Enter the number of elements in the sequence: '))\n",
    "    for i in range(numberOfElements):\n",
    "        value = int(input('Enter the value of the element: '))\n",
    "        sequence.append(value)\n",
    "    for j in range(1,len(sequence)-1): #getting the sum of the subsequence\n",
    "        max += sequence[j]\n",
    "        memory[ctr] = [sequence,max]\n",
    "        ctr += 1\n",
    "        \n",
    "    print(max)"
   ]
  },
  {
   "cell_type": "code",
   "execution_count": 3,
   "id": "db46d878",
   "metadata": {},
   "outputs": [
    {
     "name": "stdout",
     "output_type": "stream",
     "text": [
      "hatdog\n"
     ]
    }
   ],
   "source": [
    "a = [1,2,3,4]\n",
    "b = [1,2,3,4]\n",
    "\n",
    "if a == b:\n",
    "    print('hatdog')"
   ]
  },
  {
   "cell_type": "code",
   "execution_count": 5,
   "id": "3fe6b154",
   "metadata": {},
   "outputs": [
    {
     "name": "stdout",
     "output_type": "stream",
     "text": [
      "1\n",
      "2\n",
      "3\n"
     ]
    }
   ],
   "source": [
    "for i in range(1,5-1):\n",
    "    print(i)"
   ]
  },
  {
   "cell_type": "code",
   "execution_count": null,
   "id": "ca5262f8",
   "metadata": {},
   "outputs": [],
   "source": []
  }
 ],
 "metadata": {
  "kernelspec": {
   "display_name": "Python 3 (ipykernel)",
   "language": "python",
   "name": "python3"
  },
  "language_info": {
   "codemirror_mode": {
    "name": "ipython",
    "version": 3
   },
   "file_extension": ".py",
   "mimetype": "text/x-python",
   "name": "python",
   "nbconvert_exporter": "python",
   "pygments_lexer": "ipython3",
   "version": "3.10.9"
  }
 },
 "nbformat": 4,
 "nbformat_minor": 5
}
