{
  "cells": [
    {
      "cell_type": "markdown",
      "id": "f1c6ec95",
      "metadata": {
        "id": "f1c6ec95"
      },
      "source": [
        "# Hands-on Activity 2.1 : Dynamic Programming"
      ]
    },
    {
      "cell_type": "markdown",
      "id": "56dacba1",
      "metadata": {
        "id": "56dacba1"
      },
      "source": [
        "#### Objective(s):\n",
        "\n",
        "This activity aims to demonstrate how to use dynamic programming to solve problems."
      ]
    },
    {
      "cell_type": "markdown",
      "id": "e51f84e3",
      "metadata": {
        "id": "e51f84e3"
      },
      "source": [
        "#### Intended Learning Outcomes (ILOs):\n",
        "* Differentiate recursion method from dynamic programming to solve problems.\n",
        "* Demonstrate how to  solve real-world problems using dynamic programming\n"
      ]
    },
    {
      "cell_type": "markdown",
      "id": "39047b1a",
      "metadata": {
        "id": "39047b1a"
      },
      "source": [
        "#### Resources:\n",
        "* Jupyter Notebook\n"
      ]
    },
    {
      "cell_type": "markdown",
      "id": "cb5360c0",
      "metadata": {
        "id": "cb5360c0"
      },
      "source": [
        "#### Procedures:"
      ]
    },
    {
      "cell_type": "markdown",
      "id": "206a914c",
      "metadata": {
        "id": "206a914c"
      },
      "source": [
        "1. Create a code that demonstrate how to use recursion method to solve problem"
      ]
    },
    {
      "cell_type": "code",
      "source": [
        "#procedure 1\n",
        "#recursion code for arithmetic sequence\n",
        "def tri_recursion(k):\n",
        "  # conditional statement if k(the number that the user has inputted) is greater than 0\n",
        "  if(k > 0):\n",
        "    result = k + tri_recursion(k - 1)\n",
        "    print(result)\n",
        "  else:\n",
        "    result = 0\n",
        "  return result\n",
        "\n",
        "# solve the arithmetic sequence\n",
        "nume = int(input('Enter a number to get the arithmetic sequence: '))\n",
        "tri_recursion(nume)"
      ],
      "metadata": {
        "colab": {
          "base_uri": "https://localhost:8080/"
        },
        "id": "W5wMDaXG9wLw",
        "outputId": "a0aab7ae-1847-4096-f3c9-00bdfe7d171e"
      },
      "id": "W5wMDaXG9wLw",
      "execution_count": null,
      "outputs": [
        {
          "output_type": "stream",
          "name": "stdout",
          "text": [
            "Enter a number to get the arithmetic sequence: 5\n",
            "1\n",
            "3\n",
            "6\n",
            "10\n",
            "15\n"
          ]
        },
        {
          "output_type": "execute_result",
          "data": {
            "text/plain": [
              "15"
            ]
          },
          "metadata": {},
          "execution_count": 16
        }
      ]
    },
    {
      "cell_type": "markdown",
      "id": "5744a876",
      "metadata": {
        "id": "5744a876"
      },
      "source": [
        "2. Create a program codes that demonstrate how to use dynamic programming to solve the same problem"
      ]
    },
    {
      "cell_type": "code",
      "source": [
        "#procedure 2\n",
        "def tri_recursionDP(k,memo):\n",
        "  if k == 0:\n",
        "    return 0\n",
        "  if not k in memo:\n",
        "    memo[k] = k + tri_recursion(k-1,memo)\n",
        "  if k == 0:\n",
        "    memo[k] = 0\n",
        "    return memo[k]\n",
        "  return memo[k]\n",
        "\n",
        "memo = {}\n",
        "numb = int(input('Enter a number to get the arithmetic sequence: '))\n",
        "tri_recursionDP(numb,memo)\n",
        "\n",
        "\n",
        "#loop for printing the value\n",
        "for i in memo.values():\n",
        "  print(i)"
      ],
      "metadata": {
        "colab": {
          "base_uri": "https://localhost:8080/"
        },
        "id": "yeFKfNXr__P_",
        "outputId": "d0be1c3d-88eb-41fc-d46f-f6a1349d402a"
      },
      "id": "yeFKfNXr__P_",
      "execution_count": null,
      "outputs": [
        {
          "output_type": "stream",
          "name": "stdout",
          "text": [
            "Enter a number to get the arithmetic sequence: 5\n",
            "1\n",
            "3\n",
            "6\n",
            "10\n",
            "15\n"
          ]
        }
      ]
    },
    {
      "cell_type": "markdown",
      "id": "8e3f6572",
      "metadata": {
        "id": "8e3f6572"
      },
      "source": [
        "##### Question:\n",
        "Explain the difference of using the recursion from dynamic programming using the given sample codes to solve the same problem"
      ]
    },
    {
      "cell_type": "markdown",
      "id": "b5a71b53",
      "metadata": {
        "id": "b5a71b53"
      },
      "source": [
        "Type your answer here:\n",
        "##the difference using recursion on my code and using recursion in dynamic programming is that when I used the dp technique, it has an added procedure which is making a dictionary where we store the problem that the user inputted so that when the user inputted the problem (the number in recursion) the computer will not have to compute the problem again, instead it will access the dictionary and print the solution to the problem\n",
        "\n",
        "\n",
        "\n"
      ]
    },
    {
      "cell_type": "markdown",
      "id": "60074702",
      "metadata": {
        "id": "60074702"
      },
      "source": [
        "3. Create a sample program codes to simulate bottom-up dynamic programming"
      ]
    },
    {
      "cell_type": "code",
      "source": [
        "#bottom up dynamic programming approach\n",
        "def tri_iteration(n, mem):\n",
        "  sum = 0\n",
        "  #loop for storing the value in the memory\n",
        "  for i in range(1,n+1):\n",
        "    #loop for getting the value of number and then it will store in the memory\n",
        "    for j in range(sum, i):\n",
        "        sum += (j+1)\n",
        "    mem[i] = sum\n",
        "    sum = 0\n",
        "\n",
        "mem = {} #dictionary where we will store the problems\n",
        "nume = int(input('enter a number to produce an arithmetic sequence with common difference n+1: '))\n",
        "tri_iteration(nume,mem)\n",
        "\n",
        "#prints the values in the stored memory\n",
        "for element in mem.values():\n",
        "  print(element)"
      ],
      "metadata": {
        "colab": {
          "base_uri": "https://localhost:8080/"
        },
        "id": "GsoSVg4vI_tm",
        "outputId": "2c150f68-be0c-4d98-8f2a-46ca873de761"
      },
      "id": "GsoSVg4vI_tm",
      "execution_count": null,
      "outputs": [
        {
          "output_type": "stream",
          "name": "stdout",
          "text": [
            "enter a number to produce an arithmetic sequence with common difference n+1: 5\n",
            "1\n",
            "3\n",
            "6\n",
            "10\n",
            "15\n"
          ]
        }
      ]
    },
    {
      "cell_type": "markdown",
      "id": "e629eb89",
      "metadata": {
        "id": "e629eb89"
      },
      "source": [
        "4. Create a sample program codes that simulate tops-down dynamic programming"
      ]
    },
    {
      "cell_type": "code",
      "source": [
        "#top down iteration\n",
        "def tri_recursionDP(k,memo):\n",
        "  if k == 0:\n",
        "    return 0\n",
        "  if not k in memo:\n",
        "    memo[k] = k + tri_recursionDP(k-1,memo)\n",
        "  if k == 0:\n",
        "    memo[k] = 0\n",
        "    return memo[k]\n",
        "  return memo[k]\n",
        "\n",
        "memo = {}\n",
        "numb = int(input('Enter a number to get the arithmetic sequence: '))\n",
        "tri_recursionDP(numb,memo)\n",
        "\n",
        "\n",
        "#loop for printing the value\n",
        "for i in memo.values():\n",
        "  print(i)"
      ],
      "metadata": {
        "colab": {
          "base_uri": "https://localhost:8080/"
        },
        "id": "o5PG6fNjSQUm",
        "outputId": "acde9d0e-e314-4fec-b155-478af7166f07"
      },
      "id": "o5PG6fNjSQUm",
      "execution_count": null,
      "outputs": [
        {
          "output_type": "stream",
          "name": "stdout",
          "text": [
            "Enter a number to get the arithmetic sequence: 6\n",
            "1\n",
            "3\n",
            "6\n",
            "10\n",
            "15\n",
            "21\n"
          ]
        }
      ]
    },
    {
      "cell_type": "markdown",
      "id": "c2e2434c",
      "metadata": {
        "id": "c2e2434c"
      },
      "source": [
        "#### Question:\n",
        " Explain the difference between bottom-up from top-down dynamic programming using the given sample codes"
      ]
    },
    {
      "cell_type": "markdown",
      "id": "ac97e063",
      "metadata": {
        "id": "ac97e063"
      },
      "source": [
        "Type your answer here:\n",
        "\n",
        "\n",
        "\n",
        "\n"
      ]
    },
    {
      "cell_type": "markdown",
      "id": "f7a5bfbd",
      "metadata": {
        "id": "f7a5bfbd"
      },
      "source": [
        "0/1 Knapsack Problem\n",
        "\n",
        "* Analyze three different techniques to solve knapsacks problem\n",
        "1. Recursion\n",
        "2. Dynamic Programming\n",
        "3. Memoization"
      ]
    },
    {
      "cell_type": "code",
      "source": [
        "#sample code for knapsack problem using recursion\n",
        "def rec_knapSack(w, wt, val, n):\n",
        "\n",
        "  #base case\n",
        "  #defined as nth item is empty;\n",
        "  #or the capacity w is 0\n",
        "  if n == 0 or w == 0:\n",
        "    return 0\n",
        "\n",
        "  #if weight of the nth item is more than\n",
        "  #the capacity W, then this item cannot be included\n",
        "  #as part of the optimal solution\n",
        "  if(wt[n-1] > w):\n",
        "    return rec_knapSack(w, wt, val, n-1)\n",
        "\n",
        "  #return the maximum of the two cases:\n",
        "  # (1) include the nth item\n",
        "  # (2) don't include the nth item\n",
        "  else:\n",
        "    return max(\n",
        "        val[n-1] + rec_knapSack(\n",
        "            w-wt[n-1], wt, val, n-1),\n",
        "            rec_knapSack(w, wt, val, n-1)\n",
        "    )"
      ],
      "metadata": {
        "id": "15SVHF85_1Ji"
      },
      "id": "15SVHF85_1Ji",
      "execution_count": null,
      "outputs": []
    },
    {
      "cell_type": "code",
      "source": [
        "#To test:\n",
        "val = [60, 100, 120] #values for the items\n",
        "wt = [10, 20, 30] #weight of the items\n",
        "w = 50 #knapsack weight capacity\n",
        "n = len(val) #number of items\n",
        "\n",
        "rec_knapSack(w, wt, val, n)"
      ],
      "metadata": {
        "colab": {
          "base_uri": "https://localhost:8080/"
        },
        "id": "b1D3YRJ7cMqU",
        "outputId": "788d87c8-0d84-4dd6-dfcf-1206fa495812"
      },
      "id": "b1D3YRJ7cMqU",
      "execution_count": null,
      "outputs": [
        {
          "output_type": "execute_result",
          "data": {
            "text/plain": [
              "220"
            ]
          },
          "metadata": {},
          "execution_count": 27
        }
      ]
    },
    {
      "cell_type": "code",
      "source": [
        "#dynamic prog for knapsack\n",
        "def DP_knapSack(w, wt, val, n):\n",
        "  #create the table\n",
        "  table = [[0 for x in range(w+1)] for x in range (n+1)]\n",
        "\n",
        "  #populate the table in a bottom-up approach\n",
        "  for i in range(n+1):\n",
        "    for w in range(w+1):\n",
        "      if i == 0 or w == 0:\n",
        "        table[i][w] = 0\n",
        "      elif wt[i-1] <= w:\n",
        "        table[i][w] = max(val[i-1] + table[i-1][w-wt[i-1]],\n",
        "                          table[i-1][w])\n",
        "  return table[n][w]"
      ],
      "metadata": {
        "id": "A8OU1sUJ_1ES"
      },
      "id": "A8OU1sUJ_1ES",
      "execution_count": null,
      "outputs": []
    },
    {
      "cell_type": "code",
      "source": [
        "#To test:\n",
        "val = [60, 100, 120]\n",
        "wt = [10, 20, 30]\n",
        "w = 50\n",
        "n = len(val)\n",
        "\n",
        "DP_knapSack(w, wt, val, n)"
      ],
      "metadata": {
        "colab": {
          "base_uri": "https://localhost:8080/"
        },
        "id": "GUNeEPHrd-N1",
        "outputId": "4829e602-248b-48f8-cbd3-e75c4d87d3b6"
      },
      "id": "GUNeEPHrd-N1",
      "execution_count": null,
      "outputs": [
        {
          "output_type": "execute_result",
          "data": {
            "text/plain": [
              "220"
            ]
          },
          "metadata": {},
          "execution_count": 29
        }
      ]
    },
    {
      "cell_type": "code",
      "source": [
        "#Sample for top-down DP approach (memoization)\n",
        "#initialize the list of items\n",
        "val = [60, 100, 120]\n",
        "wt = [10, 20, 30]\n",
        "w = 50\n",
        "n = len(val)\n",
        "\n",
        "#initialize the container for the values that have to be stored\n",
        "#values are initialized to -1\n",
        "calc =[[-1 for i in range(w+1)] for j in range(n+1)]\n",
        "\n",
        "\n",
        "def mem_knapSack(wt, val, w, n):\n",
        "  #base conditions\n",
        "  if n == 0 or w == 0:\n",
        "    return 0\n",
        "  if calc[n][w] != -1:\n",
        "    return calc[n][w]\n",
        "\n",
        "  #compute for the other cases\n",
        "  if wt[n-1] <= w:\n",
        "    calc[n][w] = max(val[n-1] + mem_knapSack(wt, val, w-wt[n-1], n-1),\n",
        "                     mem_knapSack(wt, val, w, n-1))\n",
        "    return calc[n][w]\n",
        "  elif wt[n-1] > w:\n",
        "    calc[n][w] = mem_knapSack(wt, val, w, n-1)\n",
        "    return calc[n][w]\n",
        "\n",
        "mem_knapSack(wt, val, w, n)"
      ],
      "metadata": {
        "id": "VgwTX-XT_0_h",
        "colab": {
          "base_uri": "https://localhost:8080/"
        },
        "outputId": "6f3c2cc6-01fc-433a-ae1e-cbb99976c028"
      },
      "id": "VgwTX-XT_0_h",
      "execution_count": null,
      "outputs": [
        {
          "output_type": "execute_result",
          "data": {
            "text/plain": [
              "220"
            ]
          },
          "metadata": {},
          "execution_count": 31
        }
      ]
    },
    {
      "cell_type": "markdown",
      "source": [
        "**Code Analysis**\n",
        "\n",
        "Type your answer here."
      ],
      "metadata": {
        "id": "-UXSSblDcF8T"
      },
      "id": "-UXSSblDcF8T"
    },
    {
      "cell_type": "markdown",
      "source": [
        "## Seatwork 2.1"
      ],
      "metadata": {
        "id": "IGsdUGCUcTFd"
      },
      "id": "IGsdUGCUcTFd"
    },
    {
      "cell_type": "markdown",
      "id": "0462053d",
      "metadata": {
        "id": "0462053d"
      },
      "source": [
        "Task 1: Modify the three techniques to include additional criterion in the knapsack problems"
      ]
    },
    {
      "cell_type": "code",
      "execution_count": null,
      "id": "ed2f6186",
      "metadata": {
        "id": "ed2f6186",
        "colab": {
          "base_uri": "https://localhost:8080/"
        },
        "outputId": "1dbc2416-6ea0-4831-dbad-1377c352b5d8"
      },
      "outputs": [
        {
          "output_type": "stream",
          "name": "stdout",
          "text": [
            "220\n"
          ]
        }
      ],
      "source": [
        "#type your code here\n",
        "#Recursion\n",
        "def recursionKnapSack(w, wt, val, n):\n",
        "    # Create a list of tuples containing (value, weight, value to ratio)\n",
        "    items = []\n",
        "    for i in range(0,n):\n",
        "      items.append((val[i],wt[i],val[i]/wt[i]))\n",
        "\n",
        "    # Sort items based on profit density (value per unit weight)\n",
        "    items.sort(key=lambda x: x[2], reverse=True)\n",
        "\n",
        "    def knapsack_helper(w, items, index):\n",
        "        if index == n or w == 0:\n",
        "            return 0\n",
        "\n",
        "        # If the weight of the current item exceeds the capacity, skip it\n",
        "        if items[index][1] > w:\n",
        "            return knapsack_helper(w, items, index + 1)\n",
        "\n",
        "        # Return the maximum of two cases:\n",
        "        # (1) Include the current item\n",
        "        # (2) Exclude the current item\n",
        "        else:\n",
        "            inc = items[index][0] + knapsack_helper(w - items[index][1], items, index + 1)\n",
        "            exc = knapsack_helper(w, items, index + 1)\n",
        "            return max(inc, exc)\n",
        "\n",
        "    return knapsack_helper(w, items, 0)\n",
        "\n",
        "# To test:\n",
        "val = [60, 100, 120]  # values for the items\n",
        "wt = [10, 20, 30]      # weight of the items\n",
        "w = 50                 # knapsack weight capacity\n",
        "n = len(val)           # number of items\n",
        "\n",
        "print(rec_knapSack(w, wt, val, n))\n",
        "\n"
      ]
    },
    {
      "cell_type": "code",
      "source": [
        "#bottom-up\n",
        "#Dynamic Programming for the Knapsack Problem\n",
        "def bottomupKnapSack(cap, weight, val, n):\n",
        "    # Calculate profit density for each item\n",
        "    profit_dens = []\n",
        "    for i in range(0,n):\n",
        "      profit_dens.append((val[i] / weight[i], val[i], weight[i]))\n",
        "\n",
        "    # Create the table\n",
        "    table = []\n",
        "    for i in range(n + 1):\n",
        "        row = []\n",
        "        for j in range(cap + 1):\n",
        "            row.append(0)\n",
        "        table.append(row)\n",
        "\n",
        "    # Populate the table in a bottom-up approach\n",
        "    for i in range(1, n + 1):\n",
        "        for weight in range(1, cap + 1):\n",
        "            if profit_dens[i - 1][2] <= weight:  # If the item fits in the knapsack\n",
        "                table[i][weight] = max(profit_dens[i - 1][1] + table[i - 1][weight - profit_dens[i - 1][2]],\n",
        "                                       table[i - 1][weight])\n",
        "            else:\n",
        "                table[i][weight] = table[i - 1][weight]\n",
        "\n",
        "    return table[n][cap]\n",
        "\n",
        "# Test\n",
        "val = [60, 100, 120]  # Values for the items\n",
        "wt = [10, 20, 30]      # Weight of the items\n",
        "cap = 50                 # Knapsack weight capacity\n",
        "n = len(val)           # Number of items\n",
        "\n",
        "print(DP_knapSack(cap, wt, val, n))\n"
      ],
      "metadata": {
        "colab": {
          "base_uri": "https://localhost:8080/"
        },
        "id": "T99w2DoFKBeq",
        "outputId": "a051de1d-c2c3-4052-b6d0-236aecea894d"
      },
      "id": "T99w2DoFKBeq",
      "execution_count": null,
      "outputs": [
        {
          "output_type": "stream",
          "name": "stdout",
          "text": [
            "220\n"
          ]
        }
      ]
    },
    {
      "cell_type": "code",
      "source": [
        "#top-down\n",
        "def topdownKnapsack(cap, wt, val, n):\n",
        "    # Create a list of tuples containing (value, weight, profit density)\n",
        "    items = []\n",
        "    for i in range(0,n):\n",
        "      items.append((val[i], wt[i],val[i] / wt[i]))\n",
        "\n",
        "    # Sort items based on profit density (value per unit weight)\n",
        "    items.sort(key=lambda x: x[2], reverse=True)\n",
        "\n",
        "    # Create a memoization table\n",
        "    memo = {}\n",
        "\n",
        "    def knapsack_helper(cap, items, index):\n",
        "        if index == n or cap == 0:\n",
        "            return 0\n",
        "\n",
        "        if (cap, index) in memo:\n",
        "            return memo[(cap, index)]\n",
        "\n",
        "        # If the weight of the current item exceeds the capacity, skip it\n",
        "        if items[index][1] > cap:\n",
        "            result = knapsack_helper(cap, items, index + 1)\n",
        "        else:\n",
        "            # Return the maximum of two cases:\n",
        "            # (1) Include the current item\n",
        "            # (2) Exclude the current item\n",
        "            include = items[index][0] + knapsack_helper(cap - items[index][1], items, index + 1)\n",
        "            exclude = knapsack_helper(cap, items, index + 1)\n",
        "            result = max(include, exclude)\n",
        "\n",
        "        memo[(cap, index)] = result\n",
        "        return result\n",
        "\n",
        "    return knapsack_helper(cap, items, 0)\n",
        "\n",
        "# To test:\n",
        "val = [60, 100, 120]  # Values for the items\n",
        "wt = [10, 20, 30]      # Weight of the items\n",
        "cap = 50                 # Knapsack weight capacity\n",
        "n = len(val)           # Number of items\n",
        "\n",
        "print(topdownKnapsack(cap, wt, val, n))\n"
      ],
      "metadata": {
        "colab": {
          "base_uri": "https://localhost:8080/"
        },
        "id": "PlGRuw7MMBOj",
        "outputId": "b6e4a509-4899-47b2-cc39-c73ad9a58a6d"
      },
      "id": "PlGRuw7MMBOj",
      "execution_count": null,
      "outputs": [
        {
          "output_type": "stream",
          "name": "stdout",
          "text": [
            "220\n"
          ]
        }
      ]
    },
    {
      "cell_type": "markdown",
      "id": "f44e88aa",
      "metadata": {
        "id": "f44e88aa"
      },
      "source": [
        "Task 2: Create a sample program that find the nth number of Fibonacci Series using Dynamic Programming"
      ]
    },
    {
      "cell_type": "markdown",
      "id": "070ddd75",
      "metadata": {
        "id": "070ddd75"
      },
      "source": [
        "## Supplementary Problem (HOA 2.1 Submission):\n",
        "* Choose a real-life problem\n",
        "* Use recursion and dynamic programming to solve the problem"
      ]
    },
    {
      "cell_type": "markdown",
      "source": [
        "\n"
      ],
      "metadata": {
        "id": "8X6DnYm9R6lU"
      },
      "id": "8X6DnYm9R6lU"
    },
    {
      "cell_type": "code",
      "execution_count": null,
      "id": "86eef507",
      "metadata": {
        "id": "86eef507",
        "colab": {
          "base_uri": "https://localhost:8080/"
        },
        "outputId": "5ca7e6ec-74d1-4c9c-b7df-3a959ab1c020"
      },
      "outputs": [
        {
          "output_type": "stream",
          "name": "stdout",
          "text": [
            "Maximum profit from garage sale: 29\n"
          ]
        }
      ],
      "source": [
        "#type your code here for recursion programming solution\n",
        "def knapsack(items, cap):\n",
        "    if not items or cap == 0:\n",
        "        return 0\n",
        "\n",
        "    # get the first item\n",
        "    item = items[0]\n",
        "\n",
        "    # if the weight of the item exceeds the capacity, skip it\n",
        "    if item[0] > cap:\n",
        "        return knapsack(items[1:], cap)\n",
        "\n",
        "    inc = item[1] + knapsack(items[1:], cap - item[0])\n",
        "    exc = knapsack(items[1:], cap)\n",
        "\n",
        "    # return the maximum of the two cases\n",
        "    return max(inc, exc)\n",
        "\n",
        "#list of items with their weights and values\n",
        "items = [\n",
        "    (5, 10),\n",
        "    (8, 14),\n",
        "    (3, 7),\n",
        "    (4, 8)\n",
        "]\n",
        "\n",
        "#capacity of the knapsack\n",
        "capacity = 15\n",
        "\n",
        "#calculate the maximum profit\n",
        "max_profit = knapsack(items, capacity)\n",
        "print(\"Maximum profit from garage sale:\", max_profit)\n",
        "\n"
      ]
    },
    {
      "cell_type": "code",
      "execution_count": null,
      "id": "73b071b6",
      "metadata": {
        "id": "73b071b6",
        "colab": {
          "base_uri": "https://localhost:8080/"
        },
        "outputId": "b0f57d95-8b14-40f9-e938-60e95a5f80af"
      },
      "outputs": [
        {
          "output_type": "stream",
          "name": "stdout",
          "text": [
            "Maximum profit from garage sale: 90\n"
          ]
        }
      ],
      "source": [
        "#type your code here for dynamic programming solution\n",
        "def knapsack(wts, vals, cap):\n",
        "    #number of items\n",
        "    n = len(wts)\n",
        "\n",
        "    #initialize a table to store the maximum value for each capacity\n",
        "    dp = []\n",
        "    for i in range(0,n+1):\n",
        "      dp.append(([0]*(cap+1)))\n",
        "\n",
        "    #fill the table using dynamic programming\n",
        "    for i in range(1, n + 1):\n",
        "        for j in range(1, cap + 1):\n",
        "            #if the current item can fit in the knapsack\n",
        "            if wts[i - 1] <= j:\n",
        "                #calculate the maximum value if we include or exclude the current item\n",
        "                dp[i][j] = max(dp[i - 1][j], vals[i - 1] + dp[i - 1][j - wts[i - 1]])\n",
        "            else:\n",
        "                #if the current item cannot fit, take the previous value\n",
        "                dp[i][j] = dp[i - 1][j]\n",
        "\n",
        "    #rteturn the maximum value that can be obtained\n",
        "    return dp[n][capacity]\n",
        "\n",
        "#example items for garage sale\n",
        "wts = [7, 4, 9, 5]\n",
        "vals = [10, 40, 30, 50]\n",
        "\n",
        "#capacity of the box\n",
        "cap = 15\n",
        "\n",
        "#calculate the maximum profit\n",
        "max_profit = knapsack(wts, vals, cap)\n",
        "\n",
        "print(\"Maximum profit from garage sale:\", max_profit)\n"
      ]
    },
    {
      "cell_type": "markdown",
      "id": "bb0ed6a9",
      "metadata": {
        "id": "bb0ed6a9"
      },
      "source": [
        "#### Conclusion\n",
        "in this lab activity I have learned about dynamic programming, dynamic programming helps us run our codes more efficiently, by using the dynamic programming it will prevent the computer from solving the problem again if the problem case was repeated, in this lab activity I have learned that there are two approaches in dynamic programming and those are the top-down and the bottom-down approach, in this activity I have concluded that using the bottom-down approach the storing of the problem in the memory starts at the beginning of the list (it will start from the bottom and then to the end(n input)) while top-down approach storing in the memory starts from n input and then it will solve it one by one downwards and it will start to build up(store the value) from bottom to the top\n"
      ]
    }
  ],
  "metadata": {
    "kernelspec": {
      "display_name": "Python 3",
      "language": "python",
      "name": "python3"
    },
    "language_info": {
      "codemirror_mode": {
        "name": "ipython",
        "version": 3
      },
      "file_extension": ".py",
      "mimetype": "text/x-python",
      "name": "python",
      "nbconvert_exporter": "python",
      "pygments_lexer": "ipython3",
      "version": "3.7.10"
    },
    "colab": {
      "provenance": []
    }
  },
  "nbformat": 4,
  "nbformat_minor": 5
}