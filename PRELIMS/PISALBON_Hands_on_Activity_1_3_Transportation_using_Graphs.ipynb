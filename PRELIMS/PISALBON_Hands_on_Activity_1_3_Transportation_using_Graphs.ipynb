{
 "cells": [
  {
   "cell_type": "markdown",
   "id": "32f3b9e1",
   "metadata": {
    "id": "32f3b9e1"
   },
   "source": [
    "# Hands-on Activity 1.3 | Transportation using Graphs"
   ]
  },
  {
   "cell_type": "markdown",
   "id": "a51e92c8",
   "metadata": {
    "id": "a51e92c8"
   },
   "source": [
    "#### Objective(s):\n",
    "\n",
    "This activity aims to demonstrate how to solve transportation related problem using Graphs"
   ]
  },
  {
   "cell_type": "markdown",
   "id": "3d40df8b",
   "metadata": {
    "id": "3d40df8b"
   },
   "source": [
    "#### Intended Learning Outcomes (ILOs):\n",
    "* Demonstrate how to compute the shortest path from source to destination using graphs\n",
    "* Apply DFS and BFS to compute the shortest path"
   ]
  },
  {
   "cell_type": "markdown",
   "id": "ed8f98b6",
   "metadata": {
    "id": "ed8f98b6"
   },
   "source": [
    "#### Resources:\n",
    "* Jupyter Notebook"
   ]
  },
  {
   "cell_type": "markdown",
   "id": "36301665",
   "metadata": {
    "id": "36301665"
   },
   "source": [
    "#### Procedures:"
   ]
  },
  {
   "cell_type": "markdown",
   "id": "a2f20257",
   "metadata": {
    "id": "a2f20257"
   },
   "source": [
    "1. Create a Node class"
   ]
  },
  {
   "cell_type": "code",
   "execution_count": 1,
   "id": "43c51c35",
   "metadata": {
    "id": "43c51c35"
   },
   "outputs": [],
   "source": [
    "class Node(object):\n",
    "    def __init__(self, name):\n",
    "        \"\"\"Assumes name is a string\"\"\"\n",
    "        self.name = name\n",
    "    def getName(self):\n",
    "        return self.name\n",
    "    def __str__(self):\n",
    "        return self.name"
   ]
  },
  {
   "cell_type": "markdown",
   "id": "d4cd747e",
   "metadata": {
    "id": "d4cd747e"
   },
   "source": [
    "2. Create an Edge class"
   ]
  },
  {
   "cell_type": "code",
   "execution_count": 2,
   "id": "b585ad3a",
   "metadata": {
    "id": "b585ad3a"
   },
   "outputs": [],
   "source": [
    "class Edge(object):\n",
    "    def __init__(self, src, dest):\n",
    "        \"\"\"Assumes src and dest are nodes\"\"\"\n",
    "        self.src = src\n",
    "        self.dest = dest\n",
    "    def getSource(self):\n",
    "        return self.src\n",
    "    def getDestination(self):\n",
    "        return self.dest\n",
    "    def __str__(self):\n",
    "        return self.src.getName() + '->' + self.dest.getName()"
   ]
  },
  {
   "cell_type": "markdown",
   "id": "43fb73dd",
   "metadata": {
    "id": "43fb73dd"
   },
   "source": [
    "3. Create Digraph class that add nodes and edges"
   ]
  },
  {
   "cell_type": "code",
   "execution_count": 3,
   "id": "68d3735b",
   "metadata": {
    "id": "68d3735b"
   },
   "outputs": [],
   "source": [
    "class Digraph(object):\n",
    "    \"\"\"edges is a dict mapping each node to a list of\n",
    "    its children\"\"\"\n",
    "    def __init__(self):\n",
    "        self.edges = {}\n",
    "    def addNode(self, node):\n",
    "        # node parameter is a node object\n",
    "        if node in self.edges: # conditional statement if the node is duplicated in the dictionary\n",
    "            raise ValueError('Duplicate node')\n",
    "        else:\n",
    "            self.edges[node] = [] # if the node is not in the dictionary it will create a key in the dictionary\n",
    "    def addEdge(self, edge):\n",
    "        # edge parameter accepts an edge object\n",
    "        src = edge.getSource() # gets the source\n",
    "        dest = edge.getDestination() # gets the destination\n",
    "        if not (src in self.edges and dest in self.edges): # check if the nodes is in the dictionary\n",
    "            raise ValueError('Node not in graph')\n",
    "        self.edges[src].append(dest) # make an edge directed ONLY to the DESTINATION (that's why it is digraph)\n",
    "    def childrenOf(self, node):\n",
    "        return self.edges[node] # return the list value of the node parameter\n",
    "    def hasNode(self, node): # method for checking if the node is in the\n",
    "        return node in self.edges # returns TRUE if the node is in the dict otherwise, returns FALSE\n",
    "    def getNode(self, name): # method for getting the node\n",
    "        for n in self.edges: # loops the nodes stored in the dictionary\n",
    "            if n.getName() == name: # conditional statement if the node is found in the dict\n",
    "                return n\n",
    "        raise NameError(name) # raise an error if the node is not in the dictionary\n",
    "    def __str__(self):\n",
    "        result = ''\n",
    "        for src in self.edges: \n",
    "            for dest in self.edges[src]:\n",
    "                result = result + src.getName() + '->'\\\n",
    "                         + dest.getName() + '\\n'\n",
    "        return result[:-1] #omit final newline"
   ]
  },
  {
   "cell_type": "markdown",
   "id": "4df80036",
   "metadata": {
    "id": "4df80036"
   },
   "source": [
    "4. Create a Graph class from Digraph class that deifnes the destination and Source"
   ]
  },
  {
   "cell_type": "code",
   "execution_count": 4,
   "id": "451f786f",
   "metadata": {
    "id": "451f786f"
   },
   "outputs": [],
   "source": [
    "class Graph(Digraph):\n",
    "    def addEdge(self, edge):\n",
    "        Digraph.addEdge(self, edge) # connects the source and the destination\n",
    "        rev = Edge(edge.getDestination(), edge.getSource())\n",
    "        Digraph.addEdge(self, rev) # connects the destination and source; two way connection"
   ]
  },
  {
   "cell_type": "markdown",
   "id": "a1834ccf",
   "metadata": {
    "id": "a1834ccf"
   },
   "source": [
    "5. Create a buildCityGraph method to add nodes (City) and edges   (source to destination)"
   ]
  },
  {
   "cell_type": "code",
   "execution_count": 5,
   "id": "048f4f16",
   "metadata": {
    "id": "048f4f16"
   },
   "outputs": [],
   "source": [
    "def buildCityGraph(graphType):\n",
    "    # the graphtype paramater determines whether the Graph is unidirectional or bidirectional\n",
    "    g = graphType() \n",
    "    for name in ('Boston', 'Providence', 'New York', 'Chicago', 'Denver', 'Phoenix', 'Los Angeles'):\n",
    "        #Create 7 nodes\n",
    "        g.addNode(Node(name))\n",
    "    g.addEdge(Edge(g.getNode('Boston'), g.getNode('Providence')))\n",
    "    g.addEdge(Edge(g.getNode('Boston'), g.getNode('New York')))\n",
    "    g.addEdge(Edge(g.getNode('Providence'), g.getNode('Boston')))\n",
    "    g.addEdge(Edge(g.getNode('Providence'), g.getNode('New York')))\n",
    "    g.addEdge(Edge(g.getNode('New York'), g.getNode('Chicago')))\n",
    "    g.addEdge(Edge(g.getNode('Chicago'), g.getNode('Denver')))\n",
    "    g.addEdge(Edge(g.getNode('Denver'), g.getNode('Phoenix')))\n",
    "    g.addEdge(Edge(g.getNode('Denver'), g.getNode('New York')))\n",
    "    g.addEdge(Edge(g.getNode('Los Angeles'), g.getNode('Boston')))\n",
    "    return g"
   ]
  },
  {
   "cell_type": "code",
   "execution_count": 6,
   "id": "8172d371",
   "metadata": {
    "id": "8172d371"
   },
   "outputs": [],
   "source": [
    "def printPath(path):\n",
    "    \"\"\"Assumes path is a list of nodes\"\"\"\n",
    "    result = ''\n",
    "    for i in range(len(path)):\n",
    "        result = result + str(path[i])\n",
    "        if i != len(path) - 1:\n",
    "            result = result + '->'\n",
    "    return result"
   ]
  },
  {
   "cell_type": "markdown",
   "id": "b5d8bbe4",
   "metadata": {
    "id": "b5d8bbe4"
   },
   "source": [
    "6. Create a method to define DFS technique"
   ]
  },
  {
   "cell_type": "code",
   "execution_count": 7,
   "id": "019a8c61",
   "metadata": {
    "id": "019a8c61"
   },
   "outputs": [],
   "source": [
    "def DFS(graph, start, end, path, shortest, toPrint = False):\n",
    "    \"\"\"Assumes graph is a Digraph; start and end are nodes;\n",
    "          path and shortest are lists of nodes\n",
    "       Returns a shortest path from start to end in graph\"\"\"\n",
    "    print('now doing the dfs traversal...')\n",
    "    # graph \n",
    "    path = path + [start] \n",
    "    if toPrint:\n",
    "        print('Current DFS path:', printPath(path)) # tracker for the travelled paths(prints the paths traversed)\n",
    "    if start == end: # conditional statement if the source and the destination is the same\n",
    "        return path \n",
    "    for node in graph.childrenOf(start): # loop for exploration of the current node to its neighbor/children\n",
    "        if node not in path: #avoid cycles # checks if the neighbor is not in the path \n",
    "            if shortest == None or len(path) < len(shortest): \n",
    "                '''conditional statement if path is not found or comparing the length of two found paths'''\n",
    "                newPath = DFS(graph, node, end, path, shortest,\n",
    "                              toPrint) # recursion for exploring the first children of the source node\n",
    "                if newPath != None:\n",
    "                    shortest = newPath\n",
    "        elif toPrint:\n",
    "            print('Already visited', node)\n",
    "    return shortest"
   ]
  },
  {
   "cell_type": "markdown",
   "id": "9457ef55",
   "metadata": {
    "id": "9457ef55"
   },
   "source": [
    "7. Define a shortestPath method to return the shortest path from source to destination using DFS"
   ]
  },
  {
   "cell_type": "code",
   "execution_count": 8,
   "id": "e435e3ce",
   "metadata": {
    "id": "e435e3ce"
   },
   "outputs": [],
   "source": [
    "def shortestPathDFS(graph, start, end, toPrint = False):\n",
    "    \"\"\"Assumes graph is a Digraph; start and end are nodes\n",
    "       Returns a shortest path from start to end in graph\"\"\"\n",
    "    return DFS(graph, start, end, [], None, toPrint)"
   ]
  },
  {
   "cell_type": "markdown",
   "id": "084a1713",
   "metadata": {
    "id": "084a1713"
   },
   "source": [
    "8. Create a method to test the shortest path method"
   ]
  },
  {
   "cell_type": "code",
   "execution_count": 9,
   "id": "4ebad313",
   "metadata": {
    "id": "4ebad313"
   },
   "outputs": [],
   "source": [
    "def DFStestSP(source, destination):\n",
    "    g = buildCityGraph(Digraph) # object for building map graph\n",
    "    sp = shortestPathDFS(g, g.getNode(source), g.getNode(destination),\n",
    "                      toPrint = True) \n",
    "    if sp != None:\n",
    "        print('Shortest path from', source, 'to',\n",
    "              destination, 'is', printPath(sp))\n",
    "    else:\n",
    "        print('There is no path from', source, 'to', destination)"
   ]
  },
  {
   "cell_type": "markdown",
   "id": "397fcad6",
   "metadata": {
    "id": "397fcad6"
   },
   "source": [
    "9. Execute the testSP method"
   ]
  },
  {
   "cell_type": "code",
   "execution_count": 10,
   "id": "2a84cee5",
   "metadata": {},
   "outputs": [
    {
     "name": "stdout",
     "output_type": "stream",
     "text": [
      "now doing the dfs traversal...\n",
      "Current DFS path: Boston\n",
      "Shortest path from Boston to Boston is Boston\n"
     ]
    }
   ],
   "source": [
    "DFStestSP('Boston','Boston')"
   ]
  },
  {
   "cell_type": "code",
   "execution_count": 11,
   "id": "7b0da96e",
   "metadata": {
    "id": "7b0da96e",
    "outputId": "25713482-2f6d-47a8-9d8a-f00f6ad8e84e"
   },
   "outputs": [
    {
     "name": "stdout",
     "output_type": "stream",
     "text": [
      "now doing the dfs traversal...\n",
      "Current DFS path: Boston\n",
      "now doing the dfs traversal...\n",
      "Current DFS path: Boston->Providence\n",
      "Already visited Boston\n",
      "now doing the dfs traversal...\n",
      "Current DFS path: Boston->Providence->New York\n",
      "now doing the dfs traversal...\n",
      "Current DFS path: Boston->Providence->New York->Chicago\n",
      "now doing the dfs traversal...\n",
      "Current DFS path: Boston->Providence->New York->Chicago->Denver\n",
      "now doing the dfs traversal...\n",
      "Current DFS path: Boston->Providence->New York->Chicago->Denver->Phoenix\n",
      "Already visited New York\n",
      "now doing the dfs traversal...\n",
      "Current DFS path: Boston->New York\n",
      "now doing the dfs traversal...\n",
      "Current DFS path: Boston->New York->Chicago\n",
      "now doing the dfs traversal...\n",
      "Current DFS path: Boston->New York->Chicago->Denver\n",
      "now doing the dfs traversal...\n",
      "Current DFS path: Boston->New York->Chicago->Denver->Phoenix\n",
      "Already visited New York\n",
      "Shortest path from Boston to Phoenix is Boston->New York->Chicago->Denver->Phoenix\n"
     ]
    }
   ],
   "source": [
    "DFStestSP('Boston', 'Phoenix')"
   ]
  },
  {
   "cell_type": "markdown",
   "id": "be62a0ea",
   "metadata": {
    "id": "be62a0ea"
   },
   "source": [
    "##### Question:\n",
    "    \n",
    "Describe the DFS method to compute for the shortest path using the given sample codes\n",
    "\n",
    "Answer:\n",
    "    the function dfs that is used to compute for the shortest path has 6 parameter and those are:\n",
    "        graph - the graph parameter is a digraph/graph that was built in the buildCityGraph function\n",
    "        start - start parameter accepts a node object and that is the current location of the user\n",
    "        end - end parameter also accepts a node object and that is the destination of the user\n",
    "        path - the path parameter is used as a tracker on what locations that we had explored\n",
    "        shortest - the shortest parameter is parameter that will be used in out putting the shortest path of the problem\n",
    "        toPrint - it is a bollean integer whether we should print the locations/ nodes that have been visited\n",
    "\n",
    "in the function the start node is added to the path variable so that we can track the places that has been explored. \n",
    "\n",
    "next in the function there is a conditional statement on whether we whould print the path that the graph has traveled\n",
    "\n",
    "next conditional statement is whether if the user inputted the same location as source and destination, this conditional statement can also be used to check if we have traveled successfully to our destination.\n",
    "\n",
    "if we still haven't arrive/traveled successfully to our destination, a for loop will be executed with the condition of graph.childrenOf(start) meaning we will explore the connection of the given node to explore the adjacent node a recursive function will be called\n",
    "\n",
    "if we have found a path from source to the destination (newpath) it will update the 'shortest' variable as the short path\n",
    "\n",
    "if there are multiple paths from source to the destination a condition will be checked, that condition will be len(path) < len(shortest) if the condition holds true the recursive function will be called, thus will update the shortest path, other wise it'll skip the code\n",
    "\n",
    "after we have explored through the nodes, the function will return the shortest path"
   ]
  },
  {
   "cell_type": "markdown",
   "id": "7bec3a35",
   "metadata": {
    "id": "7bec3a35"
   },
   "source": [
    "10. Create a method to define BFS technique"
   ]
  },
  {
   "cell_type": "code",
   "execution_count": 12,
   "id": "baddc3be",
   "metadata": {
    "id": "baddc3be"
   },
   "outputs": [],
   "source": [
    "def BFS(graph, start, end, toPrint = False):\n",
    "    \"\"\"Assumes graph is a Digraph; start and end are nodes\n",
    "       Returns a shortest path from start to end in graph\"\"\"\n",
    "    print('now doing the bfs traversal...')\n",
    "    initPath = [start]\n",
    "    pathQueue = [initPath]\n",
    "    while len(pathQueue) != 0:\n",
    "        #Get and remove oldest element in pathQueue\n",
    "        tmpPath = pathQueue.pop(0)\n",
    "        if toPrint:\n",
    "            print('Current BFS path:', printPath(tmpPath))\n",
    "        lastNode = tmpPath[-1]\n",
    "        if lastNode == end:\n",
    "            return tmpPath\n",
    "        for nextNode in graph.childrenOf(lastNode):\n",
    "            if nextNode not in tmpPath:\n",
    "                newPath = tmpPath + [nextNode]\n",
    "                pathQueue.append(newPath)\n",
    "    return None"
   ]
  },
  {
   "cell_type": "markdown",
   "id": "050edf85",
   "metadata": {
    "id": "050edf85"
   },
   "source": [
    "11. Define a shortestPath method to return the shortest path from source to destination using DFS"
   ]
  },
  {
   "cell_type": "code",
   "execution_count": 13,
   "id": "0a595716",
   "metadata": {
    "id": "0a595716"
   },
   "outputs": [],
   "source": [
    "def shortestPathBFS(graph, start, end, toPrint = False):\n",
    "    \"\"\"Assumes graph is a Digraph; start and end are nodes\n",
    "       Returns a shortest path from start to end in graph\"\"\"\n",
    "    return BFS(graph, start, end, toPrint)"
   ]
  },
  {
   "cell_type": "code",
   "execution_count": 14,
   "id": "7bb64312",
   "metadata": {},
   "outputs": [],
   "source": [
    "def BFStestSP(source, destination):\n",
    "    g = buildCityGraph(Digraph) # object for building map graph\n",
    "    sp = shortestPathBFS(g, g.getNode(source), g.getNode(destination),\n",
    "                      toPrint = True) \n",
    "    if sp != None:\n",
    "        print('Shortest path from', source, 'to',\n",
    "              destination, 'is', printPath(sp))\n",
    "    else:\n",
    "        print('There is no path from', source, 'to', destination)"
   ]
  },
  {
   "cell_type": "markdown",
   "id": "abd00a05",
   "metadata": {
    "id": "abd00a05"
   },
   "source": [
    "12. Execute the testSP method"
   ]
  },
  {
   "cell_type": "code",
   "execution_count": 15,
   "id": "a942ee6b",
   "metadata": {
    "id": "a942ee6b",
    "outputId": "541d3281-b1fa-44f5-fd38-8f5ee123f4b1"
   },
   "outputs": [
    {
     "name": "stdout",
     "output_type": "stream",
     "text": [
      "now doing the bfs traversal...\n",
      "Current BFS path: Boston\n",
      "Current BFS path: Boston->Providence\n",
      "Current BFS path: Boston->New York\n",
      "Current BFS path: Boston->Providence->New York\n",
      "Current BFS path: Boston->New York->Chicago\n",
      "Current BFS path: Boston->Providence->New York->Chicago\n",
      "Current BFS path: Boston->New York->Chicago->Denver\n",
      "Current BFS path: Boston->Providence->New York->Chicago->Denver\n",
      "Current BFS path: Boston->New York->Chicago->Denver->Phoenix\n",
      "Shortest path from Boston to Phoenix is Boston->New York->Chicago->Denver->Phoenix\n"
     ]
    }
   ],
   "source": [
    "BFStestSP('Boston', 'Phoenix')"
   ]
  },
  {
   "cell_type": "markdown",
   "id": "c7bbd794",
   "metadata": {
    "id": "c7bbd794"
   },
   "source": [
    "#### Question:\n",
    "    \n",
    "Describe the BFS method to compute for the shortest path using the given sample codestion:\n",
    "    \n",
    "Answer:\n",
    "    \n",
    "    the BFS function that is used to compute for the shortest path of the graph using breadth-first search, accepts 4 parameters:\n",
    "    graph - the graph parameter accpets a digraph/graph object that is used to implement the bfs\n",
    "    start - start parameter accepts a node object and that is the current location of the user\n",
    "    end - end parameter also accepts a node object and that is the destination of the user\n",
    "    toPrint - it is a bollean integer whether we should print the locations/ nodes that have been visited\n",
    "    \n",
    "    if you passed the parameters and called the function successfully it will run the code\n",
    "    it will initialize two variables, those are:\n",
    "    \n",
    "    initPath - it is a list containing only the start node\n",
    "    pathQueue - it is also a list that gets the node from the init path the pathQueue will serve as an indicator of which nodes or what nodes do we still need to explore\n",
    "    \n",
    "    after the initialization the traversal using the while loop and will execute the following:\n",
    "    - While 'pathQueue' is not empty:\n",
    "     - dequeue the oldest path 'tmpPath' from the front of the queue.\n",
    "     - if the 'toPrint' flag is set to 'True', print the current path.\n",
    "     - get the last node 'lastNode' from 'tmpPath'.\n",
    "     - if 'lastNode' is equal to the 'end' node, return 'tmpPath' as the shortest path found.\n",
    "     - iterate over all the child nodes ('nextNode') of 'lastNode' in the graph:\n",
    "       - if 'nextNode' is not already visited (i.e., not present in 'tmpPath'):\n",
    "         - create a new path 'newPath' by appending 'nextNode' to 'tmpPath'.\n",
    "         - enqueue 'newPath' into 'pathQueue' for further exploration."
   ]
  },
  {
   "cell_type": "markdown",
   "id": "287801ae",
   "metadata": {
    "id": "287801ae"
   },
   "source": [
    "#### Supplementary Activitiy\n",
    "* Use a specific location or city to solve transportation using graph\n",
    "* Use DFS and BFS methods to compute the shortest path\n",
    "* Display the shortest path from source to destination using DFS and BFS\n",
    "* Differentiate the performance of DFS from BFS"
   ]
  },
  {
   "attachments": {
    "image-2.png": {
     "image/png": "[encoded data removed]"
    }
   },
   "cell_type": "markdown",
   "id": "61193c4a",
   "metadata": {},
   "source": [
    "## DFS on a Directed Graph\n",
    "### DIRECTED GRAPH VISUAL REPRESENTATION:\n",
    "![image-2.png](attachment:image-2.png)"
   ]
  },
  {
   "cell_type": "code",
   "execution_count": 16,
   "id": "b7e4231f",
   "metadata": {
    "id": "b7e4231f"
   },
   "outputs": [],
   "source": [
    "# type your code here using DFS\n",
    "def supplbuildCityGraph(graphType):\n",
    "    # the graphtype paramater determines whether the Graph is unidirectional or bidirectional\n",
    "    g = graphType() \n",
    "    for name in ('TIP', 'HOME', 'EASTWOOD', 'CUBAO', 'MARIKINA', 'STA. LUCIA','CAINTA'):\n",
    "        #Create 7 nodes\n",
    "        g.addNode(Node(name))\n",
    "    g.addEdge(Edge(g.getNode('TIP'), g.getNode('HOME')))\n",
    "    g.addEdge(Edge(g.getNode('TIP'), g.getNode('CUBAO')))\n",
    "    g.addEdge(Edge(g.getNode('TIP'), g.getNode('MARIKINA')))\n",
    "    g.addEdge(Edge(g.getNode('TIP'), g.getNode('STA. LUCIA')))\n",
    "    g.addEdge(Edge(g.getNode('HOME'), g.getNode('EASTWOOD')))\n",
    "    g.addEdge(Edge(g.getNode('HOME'), g.getNode('CUBAO')))\n",
    "    g.addEdge(Edge(g.getNode('MARIKINA'), g.getNode('CAINTA')))\n",
    "    g.addEdge(Edge(g.getNode('CUBAO'), g.getNode('MARIKINA')))\n",
    "    g.addEdge(Edge(g.getNode('STA. LUCIA'), g.getNode('CAINTA')))\n",
    "    g.addEdge(Edge(g.getNode('CAINTA'), g.getNode('STA. LUCIA')))\n",
    "    g.addEdge(Edge(g.getNode('CAINTA'), g.getNode('TIP')))\n",
    "    g.addEdge(Edge(g.getNode('STA. LUCIA'), g.getNode('TIP')))\n",
    "    print(g)\n",
    "    return g"
   ]
  },
  {
   "cell_type": "code",
   "execution_count": 17,
   "id": "9f753be1",
   "metadata": {},
   "outputs": [],
   "source": [
    "# code for DFS\n",
    "def DFSsuppltestSP(source, destination):\n",
    "    g = supplbuildCityGraph(Digraph) # object for building map graph\n",
    "    sp = shortestPathDFS(g, g.getNode(source), g.getNode(destination),\n",
    "                      toPrint = True) \n",
    "    if sp != None:\n",
    "        print('Shortest path from', source, 'to',\n",
    "              destination, 'is', printPath(sp))\n",
    "    else:\n",
    "        print('There is no path from', source, 'to', destination)"
   ]
  },
  {
   "cell_type": "code",
   "execution_count": 18,
   "id": "4b4e48d8",
   "metadata": {},
   "outputs": [],
   "source": [
    "# code for BFS\n",
    "def BFSsuppltestSP(source, destination):\n",
    "    g = supplbuildCityGraph(Digraph) # object for building map graph\n",
    "    sp = shortestPathBFS(g, g.getNode(source), g.getNode(destination),\n",
    "                      toPrint = True) \n",
    "    if sp != None:\n",
    "        print('Shortest path from', source, 'to',\n",
    "              destination, 'is', printPath(sp))\n",
    "    else:\n",
    "        print('There is no path from', source, 'to', destination)"
   ]
  },
  {
   "cell_type": "code",
   "execution_count": 19,
   "id": "8288825a",
   "metadata": {},
   "outputs": [],
   "source": [
    "def printPlaces(): # function for printing the list of places in the transportation\n",
    "    places = ['TIP', 'HOME', 'EASTWOOD', 'CUBAO', 'MARIKINA', 'STA. LUCIA','CAINTA']\n",
    "    num = 1\n",
    "    for i in places:\n",
    "        print(num,' ', i)\n",
    "        num += 1\n",
    "def getRoute(): \n",
    "    a = ''\n",
    "    a = ''\n",
    "    printPlaces()\n",
    "    src = int(input('Where are you now? \\nplease select a valid location:'))\n",
    "    match src:\n",
    "        case 1:\n",
    "            a = 'TIP'\n",
    "        case 2:\n",
    "            a = 'HOME'\n",
    "        case 3:\n",
    "            a = 'EASTWOOD'\n",
    "        case 4:\n",
    "            a = 'CUBAO'\n",
    "        case 5:\n",
    "            a = 'MARIKINA'\n",
    "        case 6:\n",
    "            a = 'STA. LUCIA'\n",
    "        case 7:\n",
    "            a = 'CAINTA'\n",
    "        case _:\n",
    "            print('please enter a valid choice!')\n",
    "            return None\n",
    "\n",
    "    printPlaces()\n",
    "    dest = int(input('Where do you want to go? \\nplease select a valid location: '))\n",
    "    match dest:\n",
    "        case 1:\n",
    "            b = 'TIP'\n",
    "        case 2:\n",
    "            b = 'HOME'\n",
    "        case 3:\n",
    "            b = 'EASTWOOD'\n",
    "        case 4:\n",
    "            b = 'CUBAO'\n",
    "        case 5:\n",
    "            b = 'MARIKINA'\n",
    "        case 6:\n",
    "            b = 'STA. LUCIA'\n",
    "        case 7:\n",
    "            b = 'CAINTA'\n",
    "        case _:\n",
    "            print('please enter a valid choice!')\n",
    "            return None\n",
    "    trav = int(input('1 BFS or 2 DFS?\\n'\n",
    "                     'input: '))\n",
    "    if trav == 2:\n",
    "        DFSsuppltestSP(a,b)\n",
    "    if trav == 1:\n",
    "        BFSsuppltestSP(a,b)"
   ]
  },
  {
   "cell_type": "code",
   "execution_count": 20,
   "id": "49c33122",
   "metadata": {
    "scrolled": false
   },
   "outputs": [
    {
     "name": "stdout",
     "output_type": "stream",
     "text": [
      "=======================\n",
      "1 Get Route\n",
      "0 Exit\n",
      "=======================\n",
      "input: 1\n",
      "1   TIP\n",
      "2   HOME\n",
      "3   EASTWOOD\n",
      "4   CUBAO\n",
      "5   MARIKINA\n",
      "6   STA. LUCIA\n",
      "7   CAINTA\n",
      "Where are you now? \n",
      "please select a valid location:7\n",
      "1   TIP\n",
      "2   HOME\n",
      "3   EASTWOOD\n",
      "4   CUBAO\n",
      "5   MARIKINA\n",
      "6   STA. LUCIA\n",
      "7   CAINTA\n",
      "Where do you want to go? \n",
      "please select a valid location: 2\n",
      "1 BFS or 2 DFS?\n",
      "input: 1\n",
      "TIP->HOME\n",
      "TIP->CUBAO\n",
      "TIP->MARIKINA\n",
      "TIP->STA. LUCIA\n",
      "HOME->EASTWOOD\n",
      "HOME->CUBAO\n",
      "CUBAO->MARIKINA\n",
      "MARIKINA->CAINTA\n",
      "STA. LUCIA->CAINTA\n",
      "STA. LUCIA->TIP\n",
      "CAINTA->STA. LUCIA\n",
      "CAINTA->TIP\n",
      "now doing the bfs traversal...\n",
      "Current BFS path: CAINTA\n",
      "Current BFS path: CAINTA->STA. LUCIA\n",
      "Current BFS path: CAINTA->TIP\n",
      "Current BFS path: CAINTA->STA. LUCIA->TIP\n",
      "Current BFS path: CAINTA->TIP->HOME\n",
      "Shortest path from CAINTA to HOME is CAINTA->TIP->HOME\n",
      "=======================\n",
      "1 Get Route\n",
      "0 Exit\n",
      "=======================\n",
      "input: 1\n",
      "1   TIP\n",
      "2   HOME\n",
      "3   EASTWOOD\n",
      "4   CUBAO\n",
      "5   MARIKINA\n",
      "6   STA. LUCIA\n",
      "7   CAINTA\n",
      "Where are you now? \n",
      "please select a valid location:7\n",
      "1   TIP\n",
      "2   HOME\n",
      "3   EASTWOOD\n",
      "4   CUBAO\n",
      "5   MARIKINA\n",
      "6   STA. LUCIA\n",
      "7   CAINTA\n",
      "Where do you want to go? \n",
      "please select a valid location: 2\n",
      "1 BFS or 2 DFS?\n",
      "input: 2\n",
      "TIP->HOME\n",
      "TIP->CUBAO\n",
      "TIP->MARIKINA\n",
      "TIP->STA. LUCIA\n",
      "HOME->EASTWOOD\n",
      "HOME->CUBAO\n",
      "CUBAO->MARIKINA\n",
      "MARIKINA->CAINTA\n",
      "STA. LUCIA->CAINTA\n",
      "STA. LUCIA->TIP\n",
      "CAINTA->STA. LUCIA\n",
      "CAINTA->TIP\n",
      "now doing the dfs traversal...\n",
      "Current DFS path: CAINTA\n",
      "now doing the dfs traversal...\n",
      "Current DFS path: CAINTA->STA. LUCIA\n",
      "Already visited CAINTA\n",
      "now doing the dfs traversal...\n",
      "Current DFS path: CAINTA->STA. LUCIA->TIP\n",
      "now doing the dfs traversal...\n",
      "Current DFS path: CAINTA->STA. LUCIA->TIP->HOME\n",
      "now doing the dfs traversal...\n",
      "Current DFS path: CAINTA->STA. LUCIA->TIP->CUBAO\n",
      "now doing the dfs traversal...\n",
      "Current DFS path: CAINTA->STA. LUCIA->TIP->MARIKINA\n",
      "Already visited CAINTA\n",
      "Already visited STA. LUCIA\n",
      "now doing the dfs traversal...\n",
      "Current DFS path: CAINTA->TIP\n",
      "now doing the dfs traversal...\n",
      "Current DFS path: CAINTA->TIP->HOME\n",
      "now doing the dfs traversal...\n",
      "Current DFS path: CAINTA->TIP->CUBAO\n",
      "now doing the dfs traversal...\n",
      "Current DFS path: CAINTA->TIP->MARIKINA\n",
      "Already visited CAINTA\n",
      "now doing the dfs traversal...\n",
      "Current DFS path: CAINTA->TIP->STA. LUCIA\n",
      "Already visited CAINTA\n",
      "Already visited TIP\n",
      "Shortest path from CAINTA to HOME is CAINTA->TIP->HOME\n",
      "=======================\n",
      "1 Get Route\n",
      "0 Exit\n",
      "=======================\n",
      "input: 0\n",
      "now exiting...\n"
     ]
    }
   ],
   "source": [
    "interface = True\n",
    "while interface:\n",
    "    response = int(input('=======================\\n'\n",
    "          '1 Get Route\\n'\n",
    "          '0 Exit\\n'\n",
    "          '=======================\\n'\n",
    "          'input: '))\n",
    "    \n",
    "    match response:\n",
    "        case 1:\n",
    "            getRoute()\n",
    "        case 0:\n",
    "            interface = False\n",
    "            print('now exiting...')\n",
    "        case _:\n",
    "            print('Please enter a valid choice!')"
   ]
  },
  {
   "cell_type": "markdown",
   "id": "a8447b32",
   "metadata": {
    "id": "a8447b32"
   },
   "source": [
    "#Type your evaluation about the performance of DFS and BFS\n",
    "\n",
    "my evaluation after testing and studying the codes of DFS and BFS is that bfs avoids cycle in traversing through the graph unlike dfs which has a probability to make a cycle and get stuck in a loop as shown above on my output code when I use the dfs traversing method it has a prompt if we have created a cycle i have also evaluated that bfs only focuses on the path from the source to the destination unlike the dfs which traverses on other places that are not invloved in the path to the destination or the dfs checks all the node before going to the destination"
   ]
  },
  {
   "cell_type": "markdown",
   "id": "159ad18e",
   "metadata": {
    "id": "159ad18e"
   },
   "source": [
    "#### Conclusion"
   ]
  },
  {
   "cell_type": "markdown",
   "id": "b384d644",
   "metadata": {
    "id": "b384d644"
   },
   "source": [
    "after doing this lab activity I have concluded that bfs traversal is more optimal than dfs traversal because as I have evaluated earlier dfs traverses all the nodes that not leads to the destination, I have concluded or observed that dfs may be suitable for maze problem solving, I have also concluded that the worst case of bfs might take effect on the degree of a node of number of edges that a node contains, and the worst case of the dfs might take effect on the on how deep the connection of the graph created (graphs connected on a chains)"
   ]
  }
 ],
 "metadata": {
  "colab": {
   "provenance": []
  },
  "kernelspec": {
   "display_name": "Python 3 (ipykernel)",
   "language": "python",
   "name": "python3"
  },
  "language_info": {
   "codemirror_mode": {
    "name": "ipython",
    "version": 3
   },
   "file_extension": ".py",
   "mimetype": "text/x-python",
   "name": "python",
   "nbconvert_exporter": "python",
   "pygments_lexer": "ipython3",
   "version": "3.11.5"
  }
 },
 "nbformat": 4,
 "nbformat_minor": 5
}
