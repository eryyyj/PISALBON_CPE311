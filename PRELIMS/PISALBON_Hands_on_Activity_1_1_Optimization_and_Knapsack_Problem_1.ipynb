{
  "cells": [
    {
      "cell_type": "markdown",
      "id": "193686ba",
      "metadata": {
        "id": "193686ba"
      },
      "source": [
        "# Hands-on Activity 1.1 | Optimization and Knapsack Problem"
      ]
    },
    {
      "cell_type": "markdown",
      "id": "8d87e989",
      "metadata": {
        "id": "8d87e989"
      },
      "source": [
        "#### Objective(s):\n",
        "\n",
        "This activity aims to demonstrate how to apply  greedy and brute force algorithms to solve optimization problems"
      ]
    },
    {
      "cell_type": "markdown",
      "id": "7717a27a",
      "metadata": {
        "id": "7717a27a"
      },
      "source": [
        "#### Intended Learning Outcomes (ILOs):\n",
        "* Demonstrate how to solve knapsacks problems using greedy algorithm\n",
        "* Demonstrate how to  solve knapsacks problems using brute force algorithm\n"
      ]
    },
    {
      "cell_type": "markdown",
      "id": "6454cfe7",
      "metadata": {
        "id": "6454cfe7"
      },
      "source": [
        "#### Resources:\n",
        "* Jupyter Notebook\n"
      ]
    },
    {
      "cell_type": "markdown",
      "id": "433711ac",
      "metadata": {
        "id": "433711ac"
      },
      "source": [
        "#### Procedures:"
      ]
    },
    {
      "cell_type": "markdown",
      "id": "e54a8995",
      "metadata": {
        "id": "e54a8995"
      },
      "source": [
        "1. Create a Food class that defines the following:\n",
        "* name of the food\n",
        "* value of the food\n",
        "* calories of the food\n",
        "\n",
        "2. Create the following methods inside the Food class:\n",
        "* A method that returns the value of the food\n",
        "* A method that returns the cost of the food\n",
        "* A method that calculates the density of the food (Value / Cost)\n",
        "* A method that returns a string to display the name, value and calories of the food"
      ]
    },
    {
      "cell_type": "code",
      "execution_count": null,
      "id": "cdd8310c",
      "metadata": {
        "id": "cdd8310c"
      },
      "outputs": [],
      "source": [
        "class Food(object):\n",
        "    def __init__(self, n, v, w):\n",
        "        self.name = n\n",
        "        self.value = v\n",
        "        self.calories = w\n",
        "    def getValue(self):\n",
        "        return self.value\n",
        "    def getCost(self):\n",
        "        return self.calories\n",
        "    def density(self):\n",
        "        return self.getValue()/self.getCost()\n",
        "    def __str__(self):\n",
        "        return self.name + ': <' + str(self.value)+ ', ' + str(self.calories) + '>'"
      ]
    },
    {
      "cell_type": "markdown",
      "id": "b36eee15",
      "metadata": {
        "id": "b36eee15"
      },
      "source": [
        "3. Create a buildMenu method that builds the name, value and calories of the food\n"
      ]
    },
    {
      "cell_type": "code",
      "execution_count": null,
      "id": "509672a4",
      "metadata": {
        "id": "509672a4"
      },
      "outputs": [],
      "source": [
        "def buildMenu(names, values, calories):\n",
        "    menu = []\n",
        "    for i in range(len(values)):\n",
        "        menu.append(Food(names[i], values[i],calories[i]))\n",
        "    return menu"
      ]
    },
    {
      "cell_type": "markdown",
      "id": "86f3a85b",
      "metadata": {
        "id": "86f3a85b"
      },
      "source": [
        "4. Create a method greedy to return total value and cost of added food based on the desired maximum cost"
      ]
    },
    {
      "cell_type": "code",
      "execution_count": null,
      "id": "b76912f0",
      "metadata": {
        "id": "b76912f0"
      },
      "outputs": [],
      "source": [
        "def greedy(items, maxCost, keyFunction):\n",
        "    \"\"\"Assumes items a list, maxCost >= 0,         keyFunction maps elements of items to numbers\"\"\"\n",
        "    itemsCopy = sorted(items, key = keyFunction,\n",
        "                       reverse = True)\n",
        "    result = []\n",
        "    totalValue, totalCost = 0.0, 0.0\n",
        "    for i in range(len(itemsCopy)):\n",
        "        if (totalCost+itemsCopy[i].getCost()) <= maxCost:\n",
        "            result.append(itemsCopy[i])\n",
        "            totalCost += itemsCopy[i].getCost()\n",
        "            totalValue += itemsCopy[i].getValue()\n",
        "    return (result, totalValue)"
      ]
    },
    {
      "cell_type": "markdown",
      "id": "887c566c",
      "metadata": {
        "id": "887c566c"
      },
      "source": [
        "5. Create a testGreedy method to test the greedy method"
      ]
    },
    {
      "cell_type": "code",
      "execution_count": null,
      "id": "61f2a7b0",
      "metadata": {
        "id": "61f2a7b0"
      },
      "outputs": [],
      "source": [
        "def testGreedy(items, constraint, keyFunction):\n",
        "    taken, val = greedy(items, constraint, keyFunction)\n",
        "    print('Total value of items taken =', val)\n",
        "    for item in taken:\n",
        "        print('   ', item)"
      ]
    },
    {
      "cell_type": "code",
      "execution_count": null,
      "id": "f93e5bfe",
      "metadata": {
        "id": "f93e5bfe"
      },
      "outputs": [],
      "source": [
        "def testGreedys(foods, maxUnits):\n",
        "    print('Use greedy by value to allocate', maxUnits,          'calories')\n",
        "    testGreedy(foods, maxUnits, Food.getValue)\n",
        "    print('\\nUse greedy by cost to allocate', maxUnits,          'calories')\n",
        "    testGreedy(foods, maxUnits, lambda x: 1/Food.getCost(x))\n",
        "    print('\\nUse greedy by density to allocate', maxUnits,          'calories')\n",
        "    testGreedy(foods, maxUnits, Food.density)"
      ]
    },
    {
      "cell_type": "markdown",
      "id": "cdf99f37",
      "metadata": {
        "id": "cdf99f37"
      },
      "source": [
        "6. Create arrays of food name, values and calories\n",
        "7. Call the buildMenu to create menu for food\n",
        "8. Use testGreedys method to pick food according to the desired calories"
      ]
    },
    {
      "cell_type": "code",
      "execution_count": null,
      "id": "ee22c2dd",
      "metadata": {
        "id": "ee22c2dd",
        "outputId": "ac53d521-8b2f-4af9-80ab-9401c965d49f",
        "colab": {
          "base_uri": "https://localhost:8080/"
        }
      },
      "outputs": [
        {
          "output_type": "stream",
          "name": "stdout",
          "text": [
            "Use greedy by value to allocate 2000 calories\n",
            "Total value of items taken = 603.0\n",
            "    burger: <100, 354>\n",
            "    pizza: <95, 258>\n",
            "    beer: <90, 154>\n",
            "    fries: <90, 365>\n",
            "    wine: <89, 123>\n",
            "    cola: <79, 150>\n",
            "    apple: <50, 95>\n",
            "    donut: <10, 195>\n",
            "\n",
            "Use greedy by cost to allocate 2000 calories\n",
            "Total value of items taken = 603.0\n",
            "    apple: <50, 95>\n",
            "    wine: <89, 123>\n",
            "    cola: <79, 150>\n",
            "    beer: <90, 154>\n",
            "    donut: <10, 195>\n",
            "    pizza: <95, 258>\n",
            "    burger: <100, 354>\n",
            "    fries: <90, 365>\n",
            "\n",
            "Use greedy by density to allocate 2000 calories\n",
            "Total value of items taken = 603.0\n",
            "    wine: <89, 123>\n",
            "    beer: <90, 154>\n",
            "    cola: <79, 150>\n",
            "    apple: <50, 95>\n",
            "    pizza: <95, 258>\n",
            "    burger: <100, 354>\n",
            "    fries: <90, 365>\n",
            "    donut: <10, 195>\n"
          ]
        }
      ],
      "source": [
        "names = ['wine', 'beer', 'pizza', 'burger', 'fries','cola', 'apple', 'donut', 'cake']\n",
        "values = [89,90,95,100,90,79,50,10]\n",
        "calories = [123,154,258,354,365,150,95,195]\n",
        "foods = buildMenu(names, values, calories)\n",
        "testGreedys(foods, 2000)"
      ]
    },
    {
      "cell_type": "markdown",
      "id": "a6bae808",
      "metadata": {
        "id": "a6bae808"
      },
      "source": [
        "Task 1: Change the maxUnits to 100"
      ]
    },
    {
      "cell_type": "code",
      "execution_count": null,
      "id": "3c9655c5",
      "metadata": {
        "id": "3c9655c5",
        "outputId": "a7bcaceb-3540-412b-8931-2f6594241bb9",
        "colab": {
          "base_uri": "https://localhost:8080/"
        }
      },
      "outputs": [
        {
          "output_type": "stream",
          "name": "stdout",
          "text": [
            "Use greedy by value to allocate 100 calories\n",
            "Total value of items taken = 50.0\n",
            "    apple: <50, 95>\n",
            "\n",
            "Use greedy by cost to allocate 100 calories\n",
            "Total value of items taken = 50.0\n",
            "    apple: <50, 95>\n",
            "\n",
            "Use greedy by density to allocate 100 calories\n",
            "Total value of items taken = 50.0\n",
            "    apple: <50, 95>\n"
          ]
        }
      ],
      "source": [
        "#type your code here\n",
        "newMaxUnits = 100\n",
        "testGreedys(foods,newMaxUnits)"
      ]
    },
    {
      "cell_type": "markdown",
      "id": "d13f4bdc",
      "metadata": {
        "id": "d13f4bdc"
      },
      "source": [
        "Task 2: Modify codes to add additional weight (criterion) to select food items."
      ]
    },
    {
      "cell_type": "code",
      "execution_count": null,
      "id": "61fd22fa",
      "metadata": {
        "id": "61fd22fa"
      },
      "outputs": [],
      "source": [
        "# type your code here\n",
        "class modFood(object):\n",
        "    def __init__(self, n, v, c, w):\n",
        "        self.name = n\n",
        "        self.value = v\n",
        "        self.calories = c\n",
        "        self.weight = w\n",
        "    def getValue(self):\n",
        "        return self.value\n",
        "    def getCost(self):\n",
        "        return self.calories\n",
        "    def getWeight(self):\n",
        "        return self.weight\n",
        "    def density(self):\n",
        "        return self.getValue()/self.getCost()\n",
        "    def __str__(self):\n",
        "        return self.name + ': <' + str(self.value)+ ', ' + str(self.calories) + ', ' + str(self.weight) + '>'"
      ]
    },
    {
      "cell_type": "code",
      "source": [
        "def modBuildMenu(names, values, calories, weights):\n",
        "    menu = []\n",
        "    for i in range(len(values)):\n",
        "        menu.append(modFood(names[i], values[i],calories[i],weights[i]))\n",
        "    return menu"
      ],
      "metadata": {
        "id": "eEBPJD6M6cCG"
      },
      "id": "eEBPJD6M6cCG",
      "execution_count": null,
      "outputs": []
    },
    {
      "cell_type": "code",
      "source": [
        "def modTestGreedys(foods, maxUnits):\n",
        "    print('Use greedy by value to allocate', maxUnits,          'calories')\n",
        "    testGreedy(foods, maxUnits, modFood.getValue)\n",
        "    print('\\nUse greedy by cost to allocate', maxUnits,          'calories')\n",
        "    testGreedy(foods, maxUnits, lambda x: 1/modFood.getCost(x))\n",
        "    print('\\nUse greedy by density to allocate', maxUnits,          'calories')\n",
        "    testGreedy(foods, maxUnits, modFood.density)\n",
        "    print('\\nUse greedy by weight to allocate', maxUnits, 'calories')\n",
        "    testGreedy(foods, maxUnits, modFood.getWeight)"
      ],
      "metadata": {
        "id": "laBgzg9N7WzG"
      },
      "id": "laBgzg9N7WzG",
      "execution_count": null,
      "outputs": []
    },
    {
      "cell_type": "markdown",
      "id": "ba95a8c6",
      "metadata": {
        "id": "ba95a8c6"
      },
      "source": [
        "Task 3: Test your modified code to test the greedy algorithm to select food items with your additional weight."
      ]
    },
    {
      "cell_type": "code",
      "execution_count": null,
      "id": "9d9b25c1",
      "metadata": {
        "id": "9d9b25c1",
        "outputId": "bde71cd3-2353-4951-9d1b-004c64d97c5f",
        "colab": {
          "base_uri": "https://localhost:8080/"
        }
      },
      "outputs": [
        {
          "output_type": "stream",
          "name": "stdout",
          "text": [
            "Use greedy by value to allocate 2000 calories\n",
            "Total value of items taken = 603.0\n",
            "    burger: <100, 354, 75>\n",
            "    pizza: <95, 258, 65>\n",
            "    beer: <90, 154, 80>\n",
            "    fries: <90, 365, 83>\n",
            "    wine: <89, 123, 15>\n",
            "    cola: <79, 150, 79>\n",
            "    apple: <50, 95, 32>\n",
            "    donut: <10, 195, 10>\n",
            "\n",
            "Use greedy by cost to allocate 2000 calories\n",
            "Total value of items taken = 603.0\n",
            "    apple: <50, 95, 32>\n",
            "    wine: <89, 123, 15>\n",
            "    cola: <79, 150, 79>\n",
            "    beer: <90, 154, 80>\n",
            "    donut: <10, 195, 10>\n",
            "    pizza: <95, 258, 65>\n",
            "    burger: <100, 354, 75>\n",
            "    fries: <90, 365, 83>\n",
            "\n",
            "Use greedy by density to allocate 2000 calories\n",
            "Total value of items taken = 603.0\n",
            "    wine: <89, 123, 15>\n",
            "    beer: <90, 154, 80>\n",
            "    cola: <79, 150, 79>\n",
            "    apple: <50, 95, 32>\n",
            "    pizza: <95, 258, 65>\n",
            "    burger: <100, 354, 75>\n",
            "    fries: <90, 365, 83>\n",
            "    donut: <10, 195, 10>\n",
            "\n",
            "Use greedy by weight to allocate 2000 calories\n",
            "Total value of items taken = 603.0\n",
            "    fries: <90, 365, 83>\n",
            "    beer: <90, 154, 80>\n",
            "    cola: <79, 150, 79>\n",
            "    burger: <100, 354, 75>\n",
            "    pizza: <95, 258, 65>\n",
            "    apple: <50, 95, 32>\n",
            "    wine: <89, 123, 15>\n",
            "    donut: <10, 195, 10>\n"
          ]
        }
      ],
      "source": [
        "# type your code here\n",
        "names = ['wine', 'beer', 'pizza', 'burger', 'fries','cola', 'apple', 'donut', 'cake']\n",
        "values = [89,90,95,100,90,79,50,10]\n",
        "calories = [123,154,258,354,365,150,95,195]\n",
        "weights = [15,80,65,75,83,79,32,10,78]\n",
        "foods = modBuildMenu(names, values, calories,weights)\n",
        "modTestGreedys(foods, 2000)"
      ]
    },
    {
      "cell_type": "markdown",
      "id": "1baef0aa",
      "metadata": {
        "id": "1baef0aa"
      },
      "source": [
        "9. Create method to use  Bruteforce algorithm instead of greedy algorithm"
      ]
    },
    {
      "cell_type": "code",
      "execution_count": null,
      "id": "3f61953e",
      "metadata": {
        "id": "3f61953e"
      },
      "outputs": [],
      "source": [
        "def maxVal(toConsider, avail):\n",
        "    \"\"\"Assumes toConsider a list of items, avail a weight\n",
        "       Returns a tuple of the total value of a solution to the\n",
        "         0/1 knapsack problem and the items of that solution\"\"\"\n",
        "    if toConsider == [] or avail == 0:\n",
        "        result = (0, ())\n",
        "    elif toConsider[0].getCost() > avail:\n",
        "        #Explore right branch only\n",
        "        result = maxVal(toConsider[1:], avail)\n",
        "    else:\n",
        "        nextItem = toConsider[0]\n",
        "        #Explore left branch\n",
        "        withVal, withToTake = maxVal(toConsider[1:],\n",
        "                                     avail - nextItem.getCost())\n",
        "        withVal += nextItem.getValue()\n",
        "        #Explore right branch\n",
        "        withoutVal, withoutToTake = maxVal(toConsider[1:], avail)\n",
        "        #Choose better branch\n",
        "        if withVal > withoutVal:\n",
        "            result = (withVal, withToTake + (nextItem,))\n",
        "        else:\n",
        "            result = (withoutVal, withoutToTake)\n",
        "    return result"
      ]
    },
    {
      "cell_type": "code",
      "execution_count": null,
      "id": "601e6dfe",
      "metadata": {
        "id": "601e6dfe"
      },
      "outputs": [],
      "source": [
        "def testMaxVal(foods, maxUnits, printItems = True):\n",
        "    print('Use search tree to allocate', maxUnits,\n",
        "          'calories')\n",
        "    val, taken = maxVal(foods, maxUnits)\n",
        "    print('Total costs of foods taken =', val)\n",
        "    if printItems:\n",
        "        for item in taken:\n",
        "            print('   ', item)"
      ]
    },
    {
      "cell_type": "code",
      "execution_count": null,
      "id": "f4c33d92",
      "metadata": {
        "id": "f4c33d92",
        "outputId": "e14fcc86-7eec-42c1-8014-968b17663281"
      },
      "outputs": [
        {
          "name": "stdout",
          "output_type": "stream",
          "text": [
            "Use search tree to allocate 2400 calories\n",
            "Total costs of foods taken = 603\n",
            "    donut: <10, 195>\n",
            "    apple: <50, 95>\n",
            "    cola: <79, 150>\n",
            "    fries: <90, 365>\n",
            "    burger: <100, 354>\n",
            "    pizza: <95, 258>\n",
            "    beer: <90, 154>\n",
            "    wine: <89, 123>\n"
          ]
        }
      ],
      "source": [
        "names = ['wine', 'beer', 'pizza', 'burger', 'fries','cola', 'apple', 'donut', 'cake']\n",
        "values = [89,90,95,100,90,79,50,10]\n",
        "calories = [123,154,258,354,365,150,95,195]\n",
        "foods = buildMenu(names, values, calories)\n",
        "testMaxVal(foods, 2400)"
      ]
    },
    {
      "cell_type": "markdown",
      "source": [],
      "metadata": {
        "id": "mRSLerPMBY8a"
      },
      "id": "mRSLerPMBY8a"
    },
    {
      "cell_type": "markdown",
      "id": "5e8ee81f",
      "metadata": {
        "id": "5e8ee81f"
      },
      "source": [
        "#### Supplementary Activity:"
      ]
    },
    {
      "cell_type": "markdown",
      "id": "f7eb02e1",
      "metadata": {
        "id": "f7eb02e1"
      },
      "source": [
        "* Choose a real-world problem that solves knapsacks problem\n",
        "* Use the greedy and brute force algorithm to solve knapsacks problem\n"
      ]
    },
    {
      "cell_type": "markdown",
      "source": [
        "problem: your family is planning to have a garage sale where you will be selling all of the items that you won't be needing,\n",
        "you have chosen a list of items in your room that you chose to sell to the garage sale,\n",
        " but you only have one box that can hold only 15 kilograms that you will bring to your garage you want to maximize the capacity while having a large amount of profit from your selected items\n",
        "\n"
      ],
      "metadata": {
        "id": "HTynBE82COH9"
      },
      "id": "HTynBE82COH9"
    },
    {
      "cell_type": "code",
      "source": [
        "#greedy algorithm code\n",
        "class Item:\n",
        "  def __init__(self,n,p,w):\n",
        "    self.profit = p\n",
        "    self.weight = w\n",
        "    self.name = n\n",
        "  def getProfit(self):\n",
        "    return self.profit\n",
        "  def getWeight(self):\n",
        "    return self.weight\n",
        "  def getPbyW(self):\n",
        "    return self.getProfit()/self.getWeight()\n",
        "  def __str__(self):\n",
        "    return self.name + ' <' + str(self.profit) + ',' + str(self.weight) + '>'"
      ],
      "metadata": {
        "id": "9BdPHEPJBaUa"
      },
      "id": "9BdPHEPJBaUa",
      "execution_count": null,
      "outputs": []
    },
    {
      "cell_type": "code",
      "source": [
        "def collateItems(items,profits,weights):\n",
        "  collatedItems = []\n",
        "  for i in range(len(items)):\n",
        "    collatedItems.append(Item(items[i], profits[i], weights[i]))\n",
        "  return collatedItems"
      ],
      "metadata": {
        "id": "TIQT86x3HF0F"
      },
      "id": "TIQT86x3HF0F",
      "execution_count": null,
      "outputs": []
    },
    {
      "cell_type": "code",
      "source": [],
      "metadata": {
        "id": "4Qo4Ft2NRFik"
      },
      "id": "4Qo4Ft2NRFik",
      "execution_count": null,
      "outputs": []
    },
    {
      "cell_type": "code",
      "source": [
        "def greedyAlgo(items,capacity,keyFunction):\n",
        "  itemsSort = sorted(items, key = keyFunction, reverse = True)\n",
        "\n",
        "  result = []\n",
        "  maxProfit,currentWeight = 0.0,0.0\n",
        "  for i in range(len(itemsSort)):\n",
        "    if (currentWeight+itemsSort[1].getWeight() <= capacity):\n",
        "      result.append(itemsSort[i])\n",
        "      maxProfit += itemsSort[i].getProfit()\n",
        "      currentWeight += itemsSort[i].getWeight()\n",
        "  return (result,maxProfit)"
      ],
      "metadata": {
        "id": "PTKb7Zu9I5PV"
      },
      "id": "PTKb7Zu9I5PV",
      "execution_count": null,
      "outputs": []
    },
    {
      "cell_type": "code",
      "source": [
        "def chosenItems(items, keyFunction, capacity = 15):\n",
        "  itemTaken, maxProfit = greedyAlgo(items,capacity,keyFunction)\n",
        "  print('your maximum profit for the items you have chose are: ', maxProfit)\n",
        "  print('the items that you have chosen are the following: ')\n",
        "  for item in itemTaken:\n",
        "    print('   ', item)"
      ],
      "metadata": {
        "id": "zs6X7TXjIoUt"
      },
      "id": "zs6X7TXjIoUt",
      "execution_count": null,
      "outputs": []
    },
    {
      "cell_type": "code",
      "source": [
        "items = ['jewelry','tennis balls','toy cars','books','pogs']\n",
        "profit = [98,500,200,1000,456]\n",
        "weight = [2,8,6,10,5]\n",
        "collatedItems = collateItems(items,profit,weight)\n",
        "\n",
        "chosenItems(collatedItems,Item.getPbyW)"
      ],
      "metadata": {
        "id": "Az9Z-RQUDN5m",
        "outputId": "ea829d1b-a655-4d1a-d348-54a3a90e663a",
        "colab": {
          "base_uri": "https://localhost:8080/"
        }
      },
      "id": "Az9Z-RQUDN5m",
      "execution_count": null,
      "outputs": [
        {
          "output_type": "stream",
          "name": "stdout",
          "text": [
            "your maximum profit for the items you have chose are:  1456.0\n",
            "the items that you have chosen are the following: \n",
            "    books <1000,10>\n",
            "    pogs <456,5>\n"
          ]
        }
      ]
    },
    {
      "cell_type": "code",
      "source": [
        "#brute force algo\n",
        "def BFmaxVal(toConsider, avail):\n",
        "    \"\"\"Assumes toConsider a list of items, avail a weight\n",
        "       Returns a tuple of the total value of a solution to the\n",
        "         0/1 knapsack problem and the items of that solution\"\"\"\n",
        "    if toConsider == [] or avail == 0:\n",
        "        result = (0, ())\n",
        "    elif toConsider[0].getWeight() > avail:\n",
        "        result = BFmaxVal(toConsider[1:], avail)\n",
        "    else:\n",
        "        nextItem = toConsider[0]\n",
        "        withVal, withToTake = BFmaxVal(toConsider[1:],\n",
        "                                     avail - nextItem.getWeight())\n",
        "        withVal += nextItem.getProfit()\n",
        "        withoutVal, withoutToTake = BFmaxVal(toConsider[1:], avail)\n",
        "        if withVal > withoutVal:\n",
        "            result = (withVal, withToTake + (nextItem,))\n",
        "        else:\n",
        "            result = (withoutVal, withoutToTake)\n",
        "    return result"
      ],
      "metadata": {
        "id": "BB6Go_7gQ0fO"
      },
      "id": "BB6Go_7gQ0fO",
      "execution_count": null,
      "outputs": []
    },
    {
      "cell_type": "code",
      "source": [
        "def BFtestMaxVal(items, capacity = 15, printItems = True):\n",
        "    print('Use search tree to allocate', capacity,\n",
        "          'kg')\n",
        "    maxProfit, itemsTaken = BFmaxVal(items, capacity)\n",
        "    print('Total costs of foods taken =', maxProfit)\n",
        "    if printItems:\n",
        "        for item in itemsTaken:\n",
        "            print('   ', item)"
      ],
      "metadata": {
        "id": "btetKXbzNqdl"
      },
      "id": "btetKXbzNqdl",
      "execution_count": null,
      "outputs": []
    },
    {
      "cell_type": "code",
      "source": [
        "items = ['jewelry','tennis balls','toy cars','books','pogs']\n",
        "profit = [98,500,200,1000,456]\n",
        "weight = [2,8,6,10,5]\n",
        "collatedItems = collateItems(items,profit,weight)\n",
        "\n",
        "BFtestMaxVal(collatedItems)"
      ],
      "metadata": {
        "id": "CNM1m4SIRIEH",
        "outputId": "4c005ae2-9db8-4028-cb3e-17c4194cfd93",
        "colab": {
          "base_uri": "https://localhost:8080/"
        }
      },
      "id": "CNM1m4SIRIEH",
      "execution_count": null,
      "outputs": [
        {
          "output_type": "stream",
          "name": "stdout",
          "text": [
            "Use search tree to allocate 15 calories\n",
            "Total costs of foods taken = 1456\n",
            "    pogs <456,5>\n",
            "    books <1000,10>\n"
          ]
        }
      ]
    },
    {
      "cell_type": "markdown",
      "id": "8bbdd39c",
      "metadata": {
        "id": "8bbdd39c"
      },
      "source": [
        "#### Conclusion:"
      ]
    },
    {
      "cell_type": "markdown",
      "id": "fb608ce3",
      "metadata": {
        "id": "fb608ce3"
      },
      "source": [
        "#type your conclusion here"
      ]
    },
    {
      "cell_type": "markdown",
      "source": [
        "conclusion: in this experiment we have learned about the knapsack problem, and learning how to modify the code base on the different problem but same methods in solving it. In solving the knapsack problem there are two methods in solving it, those methods are by using the greedy algorithm and brute force algorithm, in this experiment i have concluded that greedy algorithm will get the maximum possible value in our data, i have also concluded that greedy algorithm will sometimes not give the optimal solution to the problem, and lastly i've concluded that brute force algorithm is solving the problem right away without having the efficient way or algo in solving the problem"
      ],
      "metadata": {
        "id": "Z1ZqAoqhSWDM"
      },
      "id": "Z1ZqAoqhSWDM"
    }
  ],
  "metadata": {
    "kernelspec": {
      "display_name": "Python 3",
      "language": "python",
      "name": "python3"
    },
    "language_info": {
      "codemirror_mode": {
        "name": "ipython",
        "version": 3
      },
      "file_extension": ".py",
      "mimetype": "text/x-python",
      "name": "python",
      "nbconvert_exporter": "python",
      "pygments_lexer": "ipython3",
      "version": "3.7.10"
    },
    "colab": {
      "provenance": []
    }
  },
  "nbformat": 4,
  "nbformat_minor": 5
}