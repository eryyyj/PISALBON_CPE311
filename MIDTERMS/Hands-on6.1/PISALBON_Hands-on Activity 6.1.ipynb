{
 "cells": [
  {
   "cell_type": "markdown",
   "id": "91e67ff7",
   "metadata": {},
   "source": [
    "# Hands-on Activity 6.1 Introduction to Data Analysis and Tools\n",
    "**CPE311 Computational Thinking with Python** <br>\n",
    "Name: Pisalbon, Ery Jay P. <br>\n",
    "section: CPE22S3  <br>\n",
    "Performed and Submitted on:03/06/2003 <br> \n",
    "Submitted to: Engr. Roman M. Richard <br>"
   ]
  },
  {
   "cell_type": "markdown",
   "id": "04725a57",
   "metadata": {},
   "source": [
    "## ILOs\n",
    "1. use pandas and numpy data analysis tools.\n",
    "2. Demonstrate how to analyze data using numpy and pandas"
   ]
  },
  {
   "cell_type": "markdown",
   "id": "88f1c21f",
   "metadata": {},
   "source": [
    "## Resources\n",
    "• Personal Computer <br>\n",
    "• Jupyter Notebook <br>\n",
    "• Internet Connection <br>"
   ]
  },
  {
   "cell_type": "markdown",
   "id": "7b3ce044",
   "metadata": {},
   "source": [
    "## Supplementary Activities"
   ]
  },
  {
   "cell_type": "markdown",
   "id": "1d7b7a87",
   "metadata": {},
   "source": [
    "### Exercise 1\n",
    "Run the given code below for exercises 1 and 2, perform the given tasks without using any Python modules.\n"
   ]
  },
  {
   "cell_type": "code",
   "execution_count": 1,
   "id": "75f6a551",
   "metadata": {},
   "outputs": [],
   "source": [
    "import random\n",
    "import pandas as pd\n",
    "\n",
    "random.seed(0)\n",
    "\"\"\"make a list that contains 100 elements in it,\n",
    "the elements were randomized and were rounded of to 3\"\"\" \n",
    "salaries = [round(random.random()*1000000, -3) for _ in range(100)] "
   ]
  },
  {
   "cell_type": "code",
   "execution_count": 2,
   "id": "0bbc26aa",
   "metadata": {},
   "outputs": [
    {
     "name": "stdout",
     "output_type": "stream",
     "text": [
      "1      844000.0\n",
      "2      758000.0\n",
      "3      421000.0\n",
      "4      259000.0\n",
      "5      511000.0\n",
      "         ...   \n",
      "96     917000.0\n",
      "97     793000.0\n",
      "98      82000.0\n",
      "99     613000.0\n",
      "100    486000.0\n",
      "Name: Salaries, Length: 100, dtype: float64\n"
     ]
    }
   ],
   "source": [
    "# code for getting the table of the randomly generated numbers in the salaries list\n",
    "salariestbale = pd.Series(salaries, name = 'Salaries')\n",
    "salariestbale.index += 1 # the index should start at 1\n",
    "print(salariestbale)"
   ]
  },
  {
   "cell_type": "code",
   "execution_count": 3,
   "id": "54a06a54",
   "metadata": {},
   "outputs": [
    {
     "name": "stdout",
     "output_type": "stream",
     "text": [
      "630147.3404114728\n",
      "630000.0\n"
     ]
    }
   ],
   "source": [
    "# testing how the code works\n",
    "test = random.random()*1000000\n",
    "print(test)\n",
    "testR = round(test,-3)\n",
    "print(testR)"
   ]
  },
  {
   "cell_type": "markdown",
   "id": "0777808a",
   "metadata": {},
   "source": [
    "#### Mean"
   ]
  },
  {
   "cell_type": "code",
   "execution_count": 4,
   "id": "595c2617",
   "metadata": {},
   "outputs": [
    {
     "name": "stdout",
     "output_type": "stream",
     "text": [
      "585690.0\n"
     ]
    }
   ],
   "source": [
    "# own code\n",
    "def Mmean(data):\n",
    "    sum = 0\n",
    "    for i in data: # loop for adding the datas from the list passed on the funciton\n",
    "        sum += i\n",
    "    dmean = sum/len(data) # getting the mean of the list given by dividing it by its # of elements ( used the len() funciton)\n",
    "    return dmean\n",
    "\n",
    "print(Mmean(salaries))"
   ]
  },
  {
   "cell_type": "code",
   "execution_count": 5,
   "id": "9da3898b",
   "metadata": {},
   "outputs": [
    {
     "data": {
      "text/plain": [
       "585690.0"
      ]
     },
     "execution_count": 5,
     "metadata": {},
     "output_type": "execute_result"
    }
   ],
   "source": [
    "# code from the statistics module\n",
    "from statistics import mean\n",
    "\n",
    "mean(salaries)"
   ]
  },
  {
   "cell_type": "markdown",
   "id": "6c303700",
   "metadata": {},
   "source": [
    "#### Median"
   ]
  },
  {
   "cell_type": "code",
   "execution_count": 6,
   "id": "bd59fcda",
   "metadata": {},
   "outputs": [
    {
     "name": "stdout",
     "output_type": "stream",
     "text": [
      "list is even\n"
     ]
    },
    {
     "data": {
      "text/plain": [
       "589000.0"
      ]
     },
     "execution_count": 6,
     "metadata": {},
     "output_type": "execute_result"
    }
   ],
   "source": [
    "def Mmedian(data):\n",
    "    data.sort() # sorts the data first\n",
    "    median = (len(data)+1)/2 # gets the place value of the median\n",
    "    if len(data)/2 == 1: # if statement if the number of salaries is odd (we can easily get the median)\n",
    "        print('list is odd')\n",
    "        Imedian = median - 1 # gets the index of the median in the list\n",
    "        return data[Imedian]\n",
    "    else: # else statement if the number of salaries is even\n",
    "        print('list is even')\n",
    "        LMedian = int(median) - 1 # getting the first number of the median (trunacating using int)\n",
    "        RMedian = int(median)  # getting the second number of the median\n",
    "        medianEven = (data[LMedian] + data[RMedian])/2 # gets the average number of the two number on the median\n",
    "        return medianEven\n",
    "        \n",
    "Mmedian(salaries) "
   ]
  },
  {
   "cell_type": "code",
   "execution_count": 7,
   "id": "8f6fac0a",
   "metadata": {},
   "outputs": [
    {
     "data": {
      "text/plain": [
       "589000.0"
      ]
     },
     "execution_count": 7,
     "metadata": {},
     "output_type": "execute_result"
    }
   ],
   "source": [
    "from statistics import median as mdn\n",
    "\n",
    "mdn(salaries)"
   ]
  },
  {
   "cell_type": "markdown",
   "id": "eb3519c0",
   "metadata": {},
   "source": [
    "#### Mode"
   ]
  },
  {
   "cell_type": "code",
   "execution_count": 8,
   "id": "6aa74f3f",
   "metadata": {},
   "outputs": [
    {
     "data": {
      "text/plain": [
       "477000.0"
      ]
     },
     "execution_count": 8,
     "metadata": {},
     "output_type": "execute_result"
    }
   ],
   "source": [
    "def mode(data):\n",
    "    frequency = {}\n",
    "    for num in data: # loop for tallying the frequencies in the list\n",
    "        frequency[num] = frequency.get(num, 0) + 1\n",
    "    \n",
    "    max_freq = max(frequency.values())\n",
    "    for val in frequency: # loop for getting the number with the most frequence\n",
    "        if frequency[val] == max_freq: # conditional statement if the frequency of the current value is the same as the max freq\n",
    "            return val # return the element with the most frequencies\n",
    "        \n",
    "mode(salaries)"
   ]
  },
  {
   "cell_type": "code",
   "execution_count": 9,
   "id": "fe52486b",
   "metadata": {},
   "outputs": [
    {
     "data": {
      "text/plain": [
       "477000.0"
      ]
     },
     "execution_count": 9,
     "metadata": {},
     "output_type": "execute_result"
    }
   ],
   "source": [
    "from statistics import mode as md\n",
    "\n",
    "md(salaries)"
   ]
  },
  {
   "cell_type": "markdown",
   "id": "2b66c8f2",
   "metadata": {},
   "source": [
    "#### Sample Variance"
   ]
  },
  {
   "cell_type": "code",
   "execution_count": 10,
   "id": "2682458c",
   "metadata": {},
   "outputs": [
    {
     "data": {
      "text/plain": [
       "70664054444.44444"
      ]
     },
     "execution_count": 10,
     "metadata": {},
     "output_type": "execute_result"
    }
   ],
   "source": [
    "def variance(data):\n",
    "    data.sort() #sorts the data\n",
    "    sample_mean = Mmean(data) # gets the mean\n",
    "    result = 0 \n",
    "    for i in data: # for loop for getting the summation of square of the difference of the element and sample mean\n",
    "        result += (i - sample_mean)**2\n",
    "    return result / (len(data) - 1) # returns the solve sample variance\n",
    "    \n",
    "variance(salaries)"
   ]
  },
  {
   "cell_type": "code",
   "execution_count": 11,
   "id": "f136ad23",
   "metadata": {},
   "outputs": [
    {
     "data": {
      "text/plain": [
       "70664054444.44444"
      ]
     },
     "execution_count": 11,
     "metadata": {},
     "output_type": "execute_result"
    }
   ],
   "source": [
    "from statistics import variance as vrnce\n",
    "\n",
    "vrnce(salaries)"
   ]
  },
  {
   "cell_type": "markdown",
   "id": "0a0c6886",
   "metadata": {},
   "source": [
    "#### Sample standard deviation"
   ]
  },
  {
   "cell_type": "code",
   "execution_count": 12,
   "id": "66ace5c0",
   "metadata": {},
   "outputs": [
    {
     "data": {
      "text/plain": [
       "265827.11382484"
      ]
     },
     "execution_count": 12,
     "metadata": {},
     "output_type": "execute_result"
    }
   ],
   "source": [
    "def SD(data):\n",
    "    return variance(data)**0.5 # returns the square root of the variance\n",
    "\n",
    "SD(salaries)"
   ]
  },
  {
   "cell_type": "code",
   "execution_count": 13,
   "id": "0a64f87a",
   "metadata": {},
   "outputs": [
    {
     "data": {
      "text/plain": [
       "265827.11382484"
      ]
     },
     "execution_count": 13,
     "metadata": {},
     "output_type": "execute_result"
    }
   ],
   "source": [
    "from statistics import stdev \n",
    "\n",
    "stdev(salaries)"
   ]
  },
  {
   "cell_type": "markdown",
   "id": "e5075321",
   "metadata": {},
   "source": [
    "### Exercise 2\n",
    "Using the same data, calculate the following statistics using the functions in the statistics module where appropriate:"
   ]
  },
  {
   "cell_type": "markdown",
   "id": "5c934cdb",
   "metadata": {},
   "source": [
    "#### Range"
   ]
  },
  {
   "cell_type": "code",
   "execution_count": 14,
   "id": "7fd4fbdc",
   "metadata": {},
   "outputs": [
    {
     "name": "stdout",
     "output_type": "stream",
     "text": [
      "995000.0\n"
     ]
    }
   ],
   "source": [
    "data_range = max(salaries) - min(salaries)\n",
    "print(data_range)"
   ]
  },
  {
   "cell_type": "markdown",
   "id": "3e34cde4",
   "metadata": {},
   "source": [
    "#### Coefficient of variation interquartile range"
   ]
  },
  {
   "cell_type": "code",
   "execution_count": 15,
   "id": "05c95367",
   "metadata": {},
   "outputs": [
    {
     "name": "stdout",
     "output_type": "stream",
     "text": [
      "list is even\n",
      "list is even\n",
      "Coefficient of Variation (CV): 0.45386998894439035\n",
      "Interquartile Range (IQR): 417500.0\n"
     ]
    }
   ],
   "source": [
    "def Cv(data):\n",
    "    return SD(data) / Mmean(data)\n",
    "def Iqr(data):\n",
    "  # getting the quartiles\n",
    "  q1 = Mmedian(data[:len(data) // 2])\n",
    "  q3 = Mmedian(data[len(data) // 2:])\n",
    "\n",
    "  # Handle equal quartile case for IQR\n",
    "  iqr = 0\n",
    "  if q1 != q3:\n",
    "    iqr = q3 - q1\n",
    "\n",
    "  return  iqr\n",
    "\n",
    "# Calculate CV and IQR\n",
    "iqr = Iqr(salaries)\n",
    "cv = Cv(salaries)\n",
    "# Print the results\n",
    "print(\"Coefficient of Variation (CV):\", cv)\n",
    "print(\"Interquartile Range (IQR):\", iqr)"
   ]
  },
  {
   "cell_type": "markdown",
   "id": "b4b6d0a1",
   "metadata": {},
   "source": [
    "#### Quartile coefficient of dispersion"
   ]
  },
  {
   "cell_type": "code",
   "execution_count": 16,
   "id": "09975790",
   "metadata": {},
   "outputs": [
    {
     "name": "stdout",
     "output_type": "stream",
     "text": [
      "list is even\n",
      "list is even\n",
      "list is even\n",
      "list is even\n",
      "list is even\n",
      "list is even\n",
      "QCD: 0.35441426146010185\n"
     ]
    }
   ],
   "source": [
    "def QCD(data):\n",
    "    return Iqr(data) / (2 * Mmedian(data))\n",
    "\n",
    "QCD(salaries)\n",
    "\n",
    "print('QCD:', QCD(salaries))"
   ]
  },
  {
   "cell_type": "markdown",
   "id": "e9a2f9ce",
   "metadata": {},
   "source": [
    "### Exercise 3"
   ]
  },
  {
   "cell_type": "code",
   "execution_count": 17,
   "id": "8cd6da89",
   "metadata": {
    "scrolled": false
   },
   "outputs": [
    {
     "data": {
      "text/html": [
       "<div>\n",
       "<style scoped>\n",
       "    .dataframe tbody tr th:only-of-type {\n",
       "        vertical-align: middle;\n",
       "    }\n",
       "\n",
       "    .dataframe tbody tr th {\n",
       "        vertical-align: top;\n",
       "    }\n",
       "\n",
       "    .dataframe thead th {\n",
       "        text-align: right;\n",
       "    }\n",
       "</style>\n",
       "<table border=\"1\" class=\"dataframe\">\n",
       "  <thead>\n",
       "    <tr style=\"text-align: right;\">\n",
       "      <th></th>\n",
       "      <th>Pregnancies</th>\n",
       "      <th>Glucose</th>\n",
       "      <th>BloodPressure</th>\n",
       "      <th>SkinThickness</th>\n",
       "      <th>Insulin</th>\n",
       "      <th>BMI</th>\n",
       "      <th>DiabetesPedigreeFunction</th>\n",
       "      <th>Age</th>\n",
       "      <th>Outcome</th>\n",
       "    </tr>\n",
       "  </thead>\n",
       "  <tbody>\n",
       "    <tr>\n",
       "      <th>1</th>\n",
       "      <td>6</td>\n",
       "      <td>148</td>\n",
       "      <td>72</td>\n",
       "      <td>35</td>\n",
       "      <td>0</td>\n",
       "      <td>33.6</td>\n",
       "      <td>0.627</td>\n",
       "      <td>50</td>\n",
       "      <td>1</td>\n",
       "    </tr>\n",
       "    <tr>\n",
       "      <th>2</th>\n",
       "      <td>1</td>\n",
       "      <td>85</td>\n",
       "      <td>66</td>\n",
       "      <td>29</td>\n",
       "      <td>0</td>\n",
       "      <td>26.6</td>\n",
       "      <td>0.351</td>\n",
       "      <td>31</td>\n",
       "      <td>0</td>\n",
       "    </tr>\n",
       "    <tr>\n",
       "      <th>3</th>\n",
       "      <td>8</td>\n",
       "      <td>183</td>\n",
       "      <td>64</td>\n",
       "      <td>0</td>\n",
       "      <td>0</td>\n",
       "      <td>23.3</td>\n",
       "      <td>0.672</td>\n",
       "      <td>32</td>\n",
       "      <td>1</td>\n",
       "    </tr>\n",
       "    <tr>\n",
       "      <th>4</th>\n",
       "      <td>1</td>\n",
       "      <td>89</td>\n",
       "      <td>66</td>\n",
       "      <td>23</td>\n",
       "      <td>94</td>\n",
       "      <td>28.1</td>\n",
       "      <td>0.167</td>\n",
       "      <td>21</td>\n",
       "      <td>0</td>\n",
       "    </tr>\n",
       "    <tr>\n",
       "      <th>5</th>\n",
       "      <td>0</td>\n",
       "      <td>137</td>\n",
       "      <td>40</td>\n",
       "      <td>35</td>\n",
       "      <td>168</td>\n",
       "      <td>43.1</td>\n",
       "      <td>2.288</td>\n",
       "      <td>33</td>\n",
       "      <td>1</td>\n",
       "    </tr>\n",
       "    <tr>\n",
       "      <th>...</th>\n",
       "      <td>...</td>\n",
       "      <td>...</td>\n",
       "      <td>...</td>\n",
       "      <td>...</td>\n",
       "      <td>...</td>\n",
       "      <td>...</td>\n",
       "      <td>...</td>\n",
       "      <td>...</td>\n",
       "      <td>...</td>\n",
       "    </tr>\n",
       "    <tr>\n",
       "      <th>764</th>\n",
       "      <td>10</td>\n",
       "      <td>101</td>\n",
       "      <td>76</td>\n",
       "      <td>48</td>\n",
       "      <td>180</td>\n",
       "      <td>32.9</td>\n",
       "      <td>0.171</td>\n",
       "      <td>63</td>\n",
       "      <td>0</td>\n",
       "    </tr>\n",
       "    <tr>\n",
       "      <th>765</th>\n",
       "      <td>2</td>\n",
       "      <td>122</td>\n",
       "      <td>70</td>\n",
       "      <td>27</td>\n",
       "      <td>0</td>\n",
       "      <td>36.8</td>\n",
       "      <td>0.340</td>\n",
       "      <td>27</td>\n",
       "      <td>0</td>\n",
       "    </tr>\n",
       "    <tr>\n",
       "      <th>766</th>\n",
       "      <td>5</td>\n",
       "      <td>121</td>\n",
       "      <td>72</td>\n",
       "      <td>23</td>\n",
       "      <td>112</td>\n",
       "      <td>26.2</td>\n",
       "      <td>0.245</td>\n",
       "      <td>30</td>\n",
       "      <td>0</td>\n",
       "    </tr>\n",
       "    <tr>\n",
       "      <th>767</th>\n",
       "      <td>1</td>\n",
       "      <td>126</td>\n",
       "      <td>60</td>\n",
       "      <td>0</td>\n",
       "      <td>0</td>\n",
       "      <td>30.1</td>\n",
       "      <td>0.349</td>\n",
       "      <td>47</td>\n",
       "      <td>1</td>\n",
       "    </tr>\n",
       "    <tr>\n",
       "      <th>768</th>\n",
       "      <td>1</td>\n",
       "      <td>93</td>\n",
       "      <td>70</td>\n",
       "      <td>31</td>\n",
       "      <td>0</td>\n",
       "      <td>30.4</td>\n",
       "      <td>0.315</td>\n",
       "      <td>23</td>\n",
       "      <td>0</td>\n",
       "    </tr>\n",
       "  </tbody>\n",
       "</table>\n",
       "<p>768 rows × 9 columns</p>\n",
       "</div>"
      ],
      "text/plain": [
       "     Pregnancies  Glucose  BloodPressure  SkinThickness  Insulin   BMI  \\\n",
       "1              6      148             72             35        0  33.6   \n",
       "2              1       85             66             29        0  26.6   \n",
       "3              8      183             64              0        0  23.3   \n",
       "4              1       89             66             23       94  28.1   \n",
       "5              0      137             40             35      168  43.1   \n",
       "..           ...      ...            ...            ...      ...   ...   \n",
       "764           10      101             76             48      180  32.9   \n",
       "765            2      122             70             27        0  36.8   \n",
       "766            5      121             72             23      112  26.2   \n",
       "767            1      126             60              0        0  30.1   \n",
       "768            1       93             70             31        0  30.4   \n",
       "\n",
       "     DiabetesPedigreeFunction  Age  Outcome  \n",
       "1                       0.627   50        1  \n",
       "2                       0.351   31        0  \n",
       "3                       0.672   32        1  \n",
       "4                       0.167   21        0  \n",
       "5                       2.288   33        1  \n",
       "..                        ...  ...      ...  \n",
       "764                     0.171   63        0  \n",
       "765                     0.340   27        0  \n",
       "766                     0.245   30        0  \n",
       "767                     0.349   47        1  \n",
       "768                     0.315   23        0  \n",
       "\n",
       "[768 rows x 9 columns]"
      ]
     },
     "execution_count": 17,
     "metadata": {},
     "output_type": "execute_result"
    }
   ],
   "source": [
    "import pandas as pd\n",
    "import numpy as np\n",
    "\n",
    "diabetes_data = pd.read_csv('diabetes.csv')\n",
    "diabetes_data.index += 1 # index should start in 1\n",
    "diabetes_data #load the csv"
   ]
  },
  {
   "cell_type": "markdown",
   "id": "212efd97",
   "metadata": {},
   "source": [
    "#### 1. Identify the column names"
   ]
  },
  {
   "cell_type": "code",
   "execution_count": 18,
   "id": "fbbf7094",
   "metadata": {},
   "outputs": [
    {
     "data": {
      "text/plain": [
       "Index(['Pregnancies', 'Glucose', 'BloodPressure', 'SkinThickness', 'Insulin',\n",
       "       'BMI', 'DiabetesPedigreeFunction', 'Age', 'Outcome'],\n",
       "      dtype='object')"
      ]
     },
     "execution_count": 18,
     "metadata": {},
     "output_type": "execute_result"
    }
   ],
   "source": [
    "diabetes_data.columns"
   ]
  },
  {
   "cell_type": "markdown",
   "id": "606b41b7",
   "metadata": {},
   "source": [
    "#### 2. Identify the data types of the data"
   ]
  },
  {
   "cell_type": "code",
   "execution_count": 19,
   "id": "f8c89e90",
   "metadata": {},
   "outputs": [
    {
     "data": {
      "text/plain": [
       "Pregnancies                   int64\n",
       "Glucose                       int64\n",
       "BloodPressure                 int64\n",
       "SkinThickness                 int64\n",
       "Insulin                       int64\n",
       "BMI                         float64\n",
       "DiabetesPedigreeFunction    float64\n",
       "Age                           int64\n",
       "Outcome                       int64\n",
       "dtype: object"
      ]
     },
     "execution_count": 19,
     "metadata": {},
     "output_type": "execute_result"
    }
   ],
   "source": [
    "diabetes_data.dtypes"
   ]
  },
  {
   "cell_type": "markdown",
   "id": "20730b62",
   "metadata": {},
   "source": [
    "#### 3. Display the total number of records"
   ]
  },
  {
   "cell_type": "code",
   "execution_count": 20,
   "id": "20c88f0b",
   "metadata": {},
   "outputs": [
    {
     "name": "stdout",
     "output_type": "stream",
     "text": [
      "total number of records in diabetes.csv:  768\n"
     ]
    }
   ],
   "source": [
    "print('total number of records in diabetes.csv: ', len(diabetes_data))"
   ]
  },
  {
   "cell_type": "markdown",
   "id": "bb97558d",
   "metadata": {},
   "source": [
    "#### 4. Display the first 20 records"
   ]
  },
  {
   "cell_type": "code",
   "execution_count": 21,
   "id": "c9400224",
   "metadata": {},
   "outputs": [
    {
     "data": {
      "text/html": [
       "<div>\n",
       "<style scoped>\n",
       "    .dataframe tbody tr th:only-of-type {\n",
       "        vertical-align: middle;\n",
       "    }\n",
       "\n",
       "    .dataframe tbody tr th {\n",
       "        vertical-align: top;\n",
       "    }\n",
       "\n",
       "    .dataframe thead th {\n",
       "        text-align: right;\n",
       "    }\n",
       "</style>\n",
       "<table border=\"1\" class=\"dataframe\">\n",
       "  <thead>\n",
       "    <tr style=\"text-align: right;\">\n",
       "      <th></th>\n",
       "      <th>Pregnancies</th>\n",
       "      <th>Glucose</th>\n",
       "      <th>BloodPressure</th>\n",
       "      <th>SkinThickness</th>\n",
       "      <th>Insulin</th>\n",
       "      <th>BMI</th>\n",
       "      <th>DiabetesPedigreeFunction</th>\n",
       "      <th>Age</th>\n",
       "      <th>Outcome</th>\n",
       "    </tr>\n",
       "  </thead>\n",
       "  <tbody>\n",
       "    <tr>\n",
       "      <th>1</th>\n",
       "      <td>6</td>\n",
       "      <td>148</td>\n",
       "      <td>72</td>\n",
       "      <td>35</td>\n",
       "      <td>0</td>\n",
       "      <td>33.6</td>\n",
       "      <td>0.627</td>\n",
       "      <td>50</td>\n",
       "      <td>1</td>\n",
       "    </tr>\n",
       "    <tr>\n",
       "      <th>2</th>\n",
       "      <td>1</td>\n",
       "      <td>85</td>\n",
       "      <td>66</td>\n",
       "      <td>29</td>\n",
       "      <td>0</td>\n",
       "      <td>26.6</td>\n",
       "      <td>0.351</td>\n",
       "      <td>31</td>\n",
       "      <td>0</td>\n",
       "    </tr>\n",
       "    <tr>\n",
       "      <th>3</th>\n",
       "      <td>8</td>\n",
       "      <td>183</td>\n",
       "      <td>64</td>\n",
       "      <td>0</td>\n",
       "      <td>0</td>\n",
       "      <td>23.3</td>\n",
       "      <td>0.672</td>\n",
       "      <td>32</td>\n",
       "      <td>1</td>\n",
       "    </tr>\n",
       "    <tr>\n",
       "      <th>4</th>\n",
       "      <td>1</td>\n",
       "      <td>89</td>\n",
       "      <td>66</td>\n",
       "      <td>23</td>\n",
       "      <td>94</td>\n",
       "      <td>28.1</td>\n",
       "      <td>0.167</td>\n",
       "      <td>21</td>\n",
       "      <td>0</td>\n",
       "    </tr>\n",
       "    <tr>\n",
       "      <th>5</th>\n",
       "      <td>0</td>\n",
       "      <td>137</td>\n",
       "      <td>40</td>\n",
       "      <td>35</td>\n",
       "      <td>168</td>\n",
       "      <td>43.1</td>\n",
       "      <td>2.288</td>\n",
       "      <td>33</td>\n",
       "      <td>1</td>\n",
       "    </tr>\n",
       "    <tr>\n",
       "      <th>6</th>\n",
       "      <td>5</td>\n",
       "      <td>116</td>\n",
       "      <td>74</td>\n",
       "      <td>0</td>\n",
       "      <td>0</td>\n",
       "      <td>25.6</td>\n",
       "      <td>0.201</td>\n",
       "      <td>30</td>\n",
       "      <td>0</td>\n",
       "    </tr>\n",
       "    <tr>\n",
       "      <th>7</th>\n",
       "      <td>3</td>\n",
       "      <td>78</td>\n",
       "      <td>50</td>\n",
       "      <td>32</td>\n",
       "      <td>88</td>\n",
       "      <td>31.0</td>\n",
       "      <td>0.248</td>\n",
       "      <td>26</td>\n",
       "      <td>1</td>\n",
       "    </tr>\n",
       "    <tr>\n",
       "      <th>8</th>\n",
       "      <td>10</td>\n",
       "      <td>115</td>\n",
       "      <td>0</td>\n",
       "      <td>0</td>\n",
       "      <td>0</td>\n",
       "      <td>35.3</td>\n",
       "      <td>0.134</td>\n",
       "      <td>29</td>\n",
       "      <td>0</td>\n",
       "    </tr>\n",
       "    <tr>\n",
       "      <th>9</th>\n",
       "      <td>2</td>\n",
       "      <td>197</td>\n",
       "      <td>70</td>\n",
       "      <td>45</td>\n",
       "      <td>543</td>\n",
       "      <td>30.5</td>\n",
       "      <td>0.158</td>\n",
       "      <td>53</td>\n",
       "      <td>1</td>\n",
       "    </tr>\n",
       "    <tr>\n",
       "      <th>10</th>\n",
       "      <td>8</td>\n",
       "      <td>125</td>\n",
       "      <td>96</td>\n",
       "      <td>0</td>\n",
       "      <td>0</td>\n",
       "      <td>0.0</td>\n",
       "      <td>0.232</td>\n",
       "      <td>54</td>\n",
       "      <td>1</td>\n",
       "    </tr>\n",
       "    <tr>\n",
       "      <th>11</th>\n",
       "      <td>4</td>\n",
       "      <td>110</td>\n",
       "      <td>92</td>\n",
       "      <td>0</td>\n",
       "      <td>0</td>\n",
       "      <td>37.6</td>\n",
       "      <td>0.191</td>\n",
       "      <td>30</td>\n",
       "      <td>0</td>\n",
       "    </tr>\n",
       "    <tr>\n",
       "      <th>12</th>\n",
       "      <td>10</td>\n",
       "      <td>168</td>\n",
       "      <td>74</td>\n",
       "      <td>0</td>\n",
       "      <td>0</td>\n",
       "      <td>38.0</td>\n",
       "      <td>0.537</td>\n",
       "      <td>34</td>\n",
       "      <td>1</td>\n",
       "    </tr>\n",
       "    <tr>\n",
       "      <th>13</th>\n",
       "      <td>10</td>\n",
       "      <td>139</td>\n",
       "      <td>80</td>\n",
       "      <td>0</td>\n",
       "      <td>0</td>\n",
       "      <td>27.1</td>\n",
       "      <td>1.441</td>\n",
       "      <td>57</td>\n",
       "      <td>0</td>\n",
       "    </tr>\n",
       "    <tr>\n",
       "      <th>14</th>\n",
       "      <td>1</td>\n",
       "      <td>189</td>\n",
       "      <td>60</td>\n",
       "      <td>23</td>\n",
       "      <td>846</td>\n",
       "      <td>30.1</td>\n",
       "      <td>0.398</td>\n",
       "      <td>59</td>\n",
       "      <td>1</td>\n",
       "    </tr>\n",
       "    <tr>\n",
       "      <th>15</th>\n",
       "      <td>5</td>\n",
       "      <td>166</td>\n",
       "      <td>72</td>\n",
       "      <td>19</td>\n",
       "      <td>175</td>\n",
       "      <td>25.8</td>\n",
       "      <td>0.587</td>\n",
       "      <td>51</td>\n",
       "      <td>1</td>\n",
       "    </tr>\n",
       "    <tr>\n",
       "      <th>16</th>\n",
       "      <td>7</td>\n",
       "      <td>100</td>\n",
       "      <td>0</td>\n",
       "      <td>0</td>\n",
       "      <td>0</td>\n",
       "      <td>30.0</td>\n",
       "      <td>0.484</td>\n",
       "      <td>32</td>\n",
       "      <td>1</td>\n",
       "    </tr>\n",
       "    <tr>\n",
       "      <th>17</th>\n",
       "      <td>0</td>\n",
       "      <td>118</td>\n",
       "      <td>84</td>\n",
       "      <td>47</td>\n",
       "      <td>230</td>\n",
       "      <td>45.8</td>\n",
       "      <td>0.551</td>\n",
       "      <td>31</td>\n",
       "      <td>1</td>\n",
       "    </tr>\n",
       "    <tr>\n",
       "      <th>18</th>\n",
       "      <td>7</td>\n",
       "      <td>107</td>\n",
       "      <td>74</td>\n",
       "      <td>0</td>\n",
       "      <td>0</td>\n",
       "      <td>29.6</td>\n",
       "      <td>0.254</td>\n",
       "      <td>31</td>\n",
       "      <td>1</td>\n",
       "    </tr>\n",
       "    <tr>\n",
       "      <th>19</th>\n",
       "      <td>1</td>\n",
       "      <td>103</td>\n",
       "      <td>30</td>\n",
       "      <td>38</td>\n",
       "      <td>83</td>\n",
       "      <td>43.3</td>\n",
       "      <td>0.183</td>\n",
       "      <td>33</td>\n",
       "      <td>0</td>\n",
       "    </tr>\n",
       "    <tr>\n",
       "      <th>20</th>\n",
       "      <td>1</td>\n",
       "      <td>115</td>\n",
       "      <td>70</td>\n",
       "      <td>30</td>\n",
       "      <td>96</td>\n",
       "      <td>34.6</td>\n",
       "      <td>0.529</td>\n",
       "      <td>32</td>\n",
       "      <td>1</td>\n",
       "    </tr>\n",
       "  </tbody>\n",
       "</table>\n",
       "</div>"
      ],
      "text/plain": [
       "    Pregnancies  Glucose  BloodPressure  SkinThickness  Insulin   BMI  \\\n",
       "1             6      148             72             35        0  33.6   \n",
       "2             1       85             66             29        0  26.6   \n",
       "3             8      183             64              0        0  23.3   \n",
       "4             1       89             66             23       94  28.1   \n",
       "5             0      137             40             35      168  43.1   \n",
       "6             5      116             74              0        0  25.6   \n",
       "7             3       78             50             32       88  31.0   \n",
       "8            10      115              0              0        0  35.3   \n",
       "9             2      197             70             45      543  30.5   \n",
       "10            8      125             96              0        0   0.0   \n",
       "11            4      110             92              0        0  37.6   \n",
       "12           10      168             74              0        0  38.0   \n",
       "13           10      139             80              0        0  27.1   \n",
       "14            1      189             60             23      846  30.1   \n",
       "15            5      166             72             19      175  25.8   \n",
       "16            7      100              0              0        0  30.0   \n",
       "17            0      118             84             47      230  45.8   \n",
       "18            7      107             74              0        0  29.6   \n",
       "19            1      103             30             38       83  43.3   \n",
       "20            1      115             70             30       96  34.6   \n",
       "\n",
       "    DiabetesPedigreeFunction  Age  Outcome  \n",
       "1                      0.627   50        1  \n",
       "2                      0.351   31        0  \n",
       "3                      0.672   32        1  \n",
       "4                      0.167   21        0  \n",
       "5                      2.288   33        1  \n",
       "6                      0.201   30        0  \n",
       "7                      0.248   26        1  \n",
       "8                      0.134   29        0  \n",
       "9                      0.158   53        1  \n",
       "10                     0.232   54        1  \n",
       "11                     0.191   30        0  \n",
       "12                     0.537   34        1  \n",
       "13                     1.441   57        0  \n",
       "14                     0.398   59        1  \n",
       "15                     0.587   51        1  \n",
       "16                     0.484   32        1  \n",
       "17                     0.551   31        1  \n",
       "18                     0.254   31        1  \n",
       "19                     0.183   33        0  \n",
       "20                     0.529   32        1  "
      ]
     },
     "execution_count": 21,
     "metadata": {},
     "output_type": "execute_result"
    }
   ],
   "source": [
    "diabetes_data.head(20)"
   ]
  },
  {
   "cell_type": "markdown",
   "id": "950aa0e9",
   "metadata": {},
   "source": [
    "#### 5. Display the last 20 records"
   ]
  },
  {
   "cell_type": "code",
   "execution_count": 22,
   "id": "400c7553",
   "metadata": {},
   "outputs": [
    {
     "data": {
      "text/html": [
       "<div>\n",
       "<style scoped>\n",
       "    .dataframe tbody tr th:only-of-type {\n",
       "        vertical-align: middle;\n",
       "    }\n",
       "\n",
       "    .dataframe tbody tr th {\n",
       "        vertical-align: top;\n",
       "    }\n",
       "\n",
       "    .dataframe thead th {\n",
       "        text-align: right;\n",
       "    }\n",
       "</style>\n",
       "<table border=\"1\" class=\"dataframe\">\n",
       "  <thead>\n",
       "    <tr style=\"text-align: right;\">\n",
       "      <th></th>\n",
       "      <th>Pregnancies</th>\n",
       "      <th>Glucose</th>\n",
       "      <th>BloodPressure</th>\n",
       "      <th>SkinThickness</th>\n",
       "      <th>Insulin</th>\n",
       "      <th>BMI</th>\n",
       "      <th>DiabetesPedigreeFunction</th>\n",
       "      <th>Age</th>\n",
       "      <th>Outcome</th>\n",
       "    </tr>\n",
       "  </thead>\n",
       "  <tbody>\n",
       "    <tr>\n",
       "      <th>749</th>\n",
       "      <td>3</td>\n",
       "      <td>187</td>\n",
       "      <td>70</td>\n",
       "      <td>22</td>\n",
       "      <td>200</td>\n",
       "      <td>36.4</td>\n",
       "      <td>0.408</td>\n",
       "      <td>36</td>\n",
       "      <td>1</td>\n",
       "    </tr>\n",
       "    <tr>\n",
       "      <th>750</th>\n",
       "      <td>6</td>\n",
       "      <td>162</td>\n",
       "      <td>62</td>\n",
       "      <td>0</td>\n",
       "      <td>0</td>\n",
       "      <td>24.3</td>\n",
       "      <td>0.178</td>\n",
       "      <td>50</td>\n",
       "      <td>1</td>\n",
       "    </tr>\n",
       "    <tr>\n",
       "      <th>751</th>\n",
       "      <td>4</td>\n",
       "      <td>136</td>\n",
       "      <td>70</td>\n",
       "      <td>0</td>\n",
       "      <td>0</td>\n",
       "      <td>31.2</td>\n",
       "      <td>1.182</td>\n",
       "      <td>22</td>\n",
       "      <td>1</td>\n",
       "    </tr>\n",
       "    <tr>\n",
       "      <th>752</th>\n",
       "      <td>1</td>\n",
       "      <td>121</td>\n",
       "      <td>78</td>\n",
       "      <td>39</td>\n",
       "      <td>74</td>\n",
       "      <td>39.0</td>\n",
       "      <td>0.261</td>\n",
       "      <td>28</td>\n",
       "      <td>0</td>\n",
       "    </tr>\n",
       "    <tr>\n",
       "      <th>753</th>\n",
       "      <td>3</td>\n",
       "      <td>108</td>\n",
       "      <td>62</td>\n",
       "      <td>24</td>\n",
       "      <td>0</td>\n",
       "      <td>26.0</td>\n",
       "      <td>0.223</td>\n",
       "      <td>25</td>\n",
       "      <td>0</td>\n",
       "    </tr>\n",
       "    <tr>\n",
       "      <th>754</th>\n",
       "      <td>0</td>\n",
       "      <td>181</td>\n",
       "      <td>88</td>\n",
       "      <td>44</td>\n",
       "      <td>510</td>\n",
       "      <td>43.3</td>\n",
       "      <td>0.222</td>\n",
       "      <td>26</td>\n",
       "      <td>1</td>\n",
       "    </tr>\n",
       "    <tr>\n",
       "      <th>755</th>\n",
       "      <td>8</td>\n",
       "      <td>154</td>\n",
       "      <td>78</td>\n",
       "      <td>32</td>\n",
       "      <td>0</td>\n",
       "      <td>32.4</td>\n",
       "      <td>0.443</td>\n",
       "      <td>45</td>\n",
       "      <td>1</td>\n",
       "    </tr>\n",
       "    <tr>\n",
       "      <th>756</th>\n",
       "      <td>1</td>\n",
       "      <td>128</td>\n",
       "      <td>88</td>\n",
       "      <td>39</td>\n",
       "      <td>110</td>\n",
       "      <td>36.5</td>\n",
       "      <td>1.057</td>\n",
       "      <td>37</td>\n",
       "      <td>1</td>\n",
       "    </tr>\n",
       "    <tr>\n",
       "      <th>757</th>\n",
       "      <td>7</td>\n",
       "      <td>137</td>\n",
       "      <td>90</td>\n",
       "      <td>41</td>\n",
       "      <td>0</td>\n",
       "      <td>32.0</td>\n",
       "      <td>0.391</td>\n",
       "      <td>39</td>\n",
       "      <td>0</td>\n",
       "    </tr>\n",
       "    <tr>\n",
       "      <th>758</th>\n",
       "      <td>0</td>\n",
       "      <td>123</td>\n",
       "      <td>72</td>\n",
       "      <td>0</td>\n",
       "      <td>0</td>\n",
       "      <td>36.3</td>\n",
       "      <td>0.258</td>\n",
       "      <td>52</td>\n",
       "      <td>1</td>\n",
       "    </tr>\n",
       "    <tr>\n",
       "      <th>759</th>\n",
       "      <td>1</td>\n",
       "      <td>106</td>\n",
       "      <td>76</td>\n",
       "      <td>0</td>\n",
       "      <td>0</td>\n",
       "      <td>37.5</td>\n",
       "      <td>0.197</td>\n",
       "      <td>26</td>\n",
       "      <td>0</td>\n",
       "    </tr>\n",
       "    <tr>\n",
       "      <th>760</th>\n",
       "      <td>6</td>\n",
       "      <td>190</td>\n",
       "      <td>92</td>\n",
       "      <td>0</td>\n",
       "      <td>0</td>\n",
       "      <td>35.5</td>\n",
       "      <td>0.278</td>\n",
       "      <td>66</td>\n",
       "      <td>1</td>\n",
       "    </tr>\n",
       "    <tr>\n",
       "      <th>761</th>\n",
       "      <td>2</td>\n",
       "      <td>88</td>\n",
       "      <td>58</td>\n",
       "      <td>26</td>\n",
       "      <td>16</td>\n",
       "      <td>28.4</td>\n",
       "      <td>0.766</td>\n",
       "      <td>22</td>\n",
       "      <td>0</td>\n",
       "    </tr>\n",
       "    <tr>\n",
       "      <th>762</th>\n",
       "      <td>9</td>\n",
       "      <td>170</td>\n",
       "      <td>74</td>\n",
       "      <td>31</td>\n",
       "      <td>0</td>\n",
       "      <td>44.0</td>\n",
       "      <td>0.403</td>\n",
       "      <td>43</td>\n",
       "      <td>1</td>\n",
       "    </tr>\n",
       "    <tr>\n",
       "      <th>763</th>\n",
       "      <td>9</td>\n",
       "      <td>89</td>\n",
       "      <td>62</td>\n",
       "      <td>0</td>\n",
       "      <td>0</td>\n",
       "      <td>22.5</td>\n",
       "      <td>0.142</td>\n",
       "      <td>33</td>\n",
       "      <td>0</td>\n",
       "    </tr>\n",
       "    <tr>\n",
       "      <th>764</th>\n",
       "      <td>10</td>\n",
       "      <td>101</td>\n",
       "      <td>76</td>\n",
       "      <td>48</td>\n",
       "      <td>180</td>\n",
       "      <td>32.9</td>\n",
       "      <td>0.171</td>\n",
       "      <td>63</td>\n",
       "      <td>0</td>\n",
       "    </tr>\n",
       "    <tr>\n",
       "      <th>765</th>\n",
       "      <td>2</td>\n",
       "      <td>122</td>\n",
       "      <td>70</td>\n",
       "      <td>27</td>\n",
       "      <td>0</td>\n",
       "      <td>36.8</td>\n",
       "      <td>0.340</td>\n",
       "      <td>27</td>\n",
       "      <td>0</td>\n",
       "    </tr>\n",
       "    <tr>\n",
       "      <th>766</th>\n",
       "      <td>5</td>\n",
       "      <td>121</td>\n",
       "      <td>72</td>\n",
       "      <td>23</td>\n",
       "      <td>112</td>\n",
       "      <td>26.2</td>\n",
       "      <td>0.245</td>\n",
       "      <td>30</td>\n",
       "      <td>0</td>\n",
       "    </tr>\n",
       "    <tr>\n",
       "      <th>767</th>\n",
       "      <td>1</td>\n",
       "      <td>126</td>\n",
       "      <td>60</td>\n",
       "      <td>0</td>\n",
       "      <td>0</td>\n",
       "      <td>30.1</td>\n",
       "      <td>0.349</td>\n",
       "      <td>47</td>\n",
       "      <td>1</td>\n",
       "    </tr>\n",
       "    <tr>\n",
       "      <th>768</th>\n",
       "      <td>1</td>\n",
       "      <td>93</td>\n",
       "      <td>70</td>\n",
       "      <td>31</td>\n",
       "      <td>0</td>\n",
       "      <td>30.4</td>\n",
       "      <td>0.315</td>\n",
       "      <td>23</td>\n",
       "      <td>0</td>\n",
       "    </tr>\n",
       "  </tbody>\n",
       "</table>\n",
       "</div>"
      ],
      "text/plain": [
       "     Pregnancies  Glucose  BloodPressure  SkinThickness  Insulin   BMI  \\\n",
       "749            3      187             70             22      200  36.4   \n",
       "750            6      162             62              0        0  24.3   \n",
       "751            4      136             70              0        0  31.2   \n",
       "752            1      121             78             39       74  39.0   \n",
       "753            3      108             62             24        0  26.0   \n",
       "754            0      181             88             44      510  43.3   \n",
       "755            8      154             78             32        0  32.4   \n",
       "756            1      128             88             39      110  36.5   \n",
       "757            7      137             90             41        0  32.0   \n",
       "758            0      123             72              0        0  36.3   \n",
       "759            1      106             76              0        0  37.5   \n",
       "760            6      190             92              0        0  35.5   \n",
       "761            2       88             58             26       16  28.4   \n",
       "762            9      170             74             31        0  44.0   \n",
       "763            9       89             62              0        0  22.5   \n",
       "764           10      101             76             48      180  32.9   \n",
       "765            2      122             70             27        0  36.8   \n",
       "766            5      121             72             23      112  26.2   \n",
       "767            1      126             60              0        0  30.1   \n",
       "768            1       93             70             31        0  30.4   \n",
       "\n",
       "     DiabetesPedigreeFunction  Age  Outcome  \n",
       "749                     0.408   36        1  \n",
       "750                     0.178   50        1  \n",
       "751                     1.182   22        1  \n",
       "752                     0.261   28        0  \n",
       "753                     0.223   25        0  \n",
       "754                     0.222   26        1  \n",
       "755                     0.443   45        1  \n",
       "756                     1.057   37        1  \n",
       "757                     0.391   39        0  \n",
       "758                     0.258   52        1  \n",
       "759                     0.197   26        0  \n",
       "760                     0.278   66        1  \n",
       "761                     0.766   22        0  \n",
       "762                     0.403   43        1  \n",
       "763                     0.142   33        0  \n",
       "764                     0.171   63        0  \n",
       "765                     0.340   27        0  \n",
       "766                     0.245   30        0  \n",
       "767                     0.349   47        1  \n",
       "768                     0.315   23        0  "
      ]
     },
     "execution_count": 22,
     "metadata": {},
     "output_type": "execute_result"
    }
   ],
   "source": [
    "diabetes_data.tail(20)"
   ]
  },
  {
   "cell_type": "markdown",
   "id": "a3b37835",
   "metadata": {},
   "source": [
    "#### 6. Change Outcome column to Diagnosis"
   ]
  },
  {
   "cell_type": "code",
   "execution_count": 23,
   "id": "903c71c9",
   "metadata": {},
   "outputs": [
    {
     "data": {
      "text/html": [
       "<div>\n",
       "<style scoped>\n",
       "    .dataframe tbody tr th:only-of-type {\n",
       "        vertical-align: middle;\n",
       "    }\n",
       "\n",
       "    .dataframe tbody tr th {\n",
       "        vertical-align: top;\n",
       "    }\n",
       "\n",
       "    .dataframe thead th {\n",
       "        text-align: right;\n",
       "    }\n",
       "</style>\n",
       "<table border=\"1\" class=\"dataframe\">\n",
       "  <thead>\n",
       "    <tr style=\"text-align: right;\">\n",
       "      <th></th>\n",
       "      <th>Pregnancies</th>\n",
       "      <th>Glucose</th>\n",
       "      <th>BloodPressure</th>\n",
       "      <th>SkinThickness</th>\n",
       "      <th>Insulin</th>\n",
       "      <th>BMI</th>\n",
       "      <th>DiabetesPedigreeFunction</th>\n",
       "      <th>Age</th>\n",
       "      <th>Diagnosis</th>\n",
       "    </tr>\n",
       "  </thead>\n",
       "  <tbody>\n",
       "    <tr>\n",
       "      <th>1</th>\n",
       "      <td>6</td>\n",
       "      <td>148</td>\n",
       "      <td>72</td>\n",
       "      <td>35</td>\n",
       "      <td>0</td>\n",
       "      <td>33.6</td>\n",
       "      <td>0.627</td>\n",
       "      <td>50</td>\n",
       "      <td>1</td>\n",
       "    </tr>\n",
       "    <tr>\n",
       "      <th>2</th>\n",
       "      <td>1</td>\n",
       "      <td>85</td>\n",
       "      <td>66</td>\n",
       "      <td>29</td>\n",
       "      <td>0</td>\n",
       "      <td>26.6</td>\n",
       "      <td>0.351</td>\n",
       "      <td>31</td>\n",
       "      <td>0</td>\n",
       "    </tr>\n",
       "    <tr>\n",
       "      <th>3</th>\n",
       "      <td>8</td>\n",
       "      <td>183</td>\n",
       "      <td>64</td>\n",
       "      <td>0</td>\n",
       "      <td>0</td>\n",
       "      <td>23.3</td>\n",
       "      <td>0.672</td>\n",
       "      <td>32</td>\n",
       "      <td>1</td>\n",
       "    </tr>\n",
       "    <tr>\n",
       "      <th>4</th>\n",
       "      <td>1</td>\n",
       "      <td>89</td>\n",
       "      <td>66</td>\n",
       "      <td>23</td>\n",
       "      <td>94</td>\n",
       "      <td>28.1</td>\n",
       "      <td>0.167</td>\n",
       "      <td>21</td>\n",
       "      <td>0</td>\n",
       "    </tr>\n",
       "    <tr>\n",
       "      <th>5</th>\n",
       "      <td>0</td>\n",
       "      <td>137</td>\n",
       "      <td>40</td>\n",
       "      <td>35</td>\n",
       "      <td>168</td>\n",
       "      <td>43.1</td>\n",
       "      <td>2.288</td>\n",
       "      <td>33</td>\n",
       "      <td>1</td>\n",
       "    </tr>\n",
       "    <tr>\n",
       "      <th>...</th>\n",
       "      <td>...</td>\n",
       "      <td>...</td>\n",
       "      <td>...</td>\n",
       "      <td>...</td>\n",
       "      <td>...</td>\n",
       "      <td>...</td>\n",
       "      <td>...</td>\n",
       "      <td>...</td>\n",
       "      <td>...</td>\n",
       "    </tr>\n",
       "    <tr>\n",
       "      <th>764</th>\n",
       "      <td>10</td>\n",
       "      <td>101</td>\n",
       "      <td>76</td>\n",
       "      <td>48</td>\n",
       "      <td>180</td>\n",
       "      <td>32.9</td>\n",
       "      <td>0.171</td>\n",
       "      <td>63</td>\n",
       "      <td>0</td>\n",
       "    </tr>\n",
       "    <tr>\n",
       "      <th>765</th>\n",
       "      <td>2</td>\n",
       "      <td>122</td>\n",
       "      <td>70</td>\n",
       "      <td>27</td>\n",
       "      <td>0</td>\n",
       "      <td>36.8</td>\n",
       "      <td>0.340</td>\n",
       "      <td>27</td>\n",
       "      <td>0</td>\n",
       "    </tr>\n",
       "    <tr>\n",
       "      <th>766</th>\n",
       "      <td>5</td>\n",
       "      <td>121</td>\n",
       "      <td>72</td>\n",
       "      <td>23</td>\n",
       "      <td>112</td>\n",
       "      <td>26.2</td>\n",
       "      <td>0.245</td>\n",
       "      <td>30</td>\n",
       "      <td>0</td>\n",
       "    </tr>\n",
       "    <tr>\n",
       "      <th>767</th>\n",
       "      <td>1</td>\n",
       "      <td>126</td>\n",
       "      <td>60</td>\n",
       "      <td>0</td>\n",
       "      <td>0</td>\n",
       "      <td>30.1</td>\n",
       "      <td>0.349</td>\n",
       "      <td>47</td>\n",
       "      <td>1</td>\n",
       "    </tr>\n",
       "    <tr>\n",
       "      <th>768</th>\n",
       "      <td>1</td>\n",
       "      <td>93</td>\n",
       "      <td>70</td>\n",
       "      <td>31</td>\n",
       "      <td>0</td>\n",
       "      <td>30.4</td>\n",
       "      <td>0.315</td>\n",
       "      <td>23</td>\n",
       "      <td>0</td>\n",
       "    </tr>\n",
       "  </tbody>\n",
       "</table>\n",
       "<p>768 rows × 9 columns</p>\n",
       "</div>"
      ],
      "text/plain": [
       "     Pregnancies  Glucose  BloodPressure  SkinThickness  Insulin   BMI  \\\n",
       "1              6      148             72             35        0  33.6   \n",
       "2              1       85             66             29        0  26.6   \n",
       "3              8      183             64              0        0  23.3   \n",
       "4              1       89             66             23       94  28.1   \n",
       "5              0      137             40             35      168  43.1   \n",
       "..           ...      ...            ...            ...      ...   ...   \n",
       "764           10      101             76             48      180  32.9   \n",
       "765            2      122             70             27        0  36.8   \n",
       "766            5      121             72             23      112  26.2   \n",
       "767            1      126             60              0        0  30.1   \n",
       "768            1       93             70             31        0  30.4   \n",
       "\n",
       "     DiabetesPedigreeFunction  Age  Diagnosis  \n",
       "1                       0.627   50          1  \n",
       "2                       0.351   31          0  \n",
       "3                       0.672   32          1  \n",
       "4                       0.167   21          0  \n",
       "5                       2.288   33          1  \n",
       "..                        ...  ...        ...  \n",
       "764                     0.171   63          0  \n",
       "765                     0.340   27          0  \n",
       "766                     0.245   30          0  \n",
       "767                     0.349   47          1  \n",
       "768                     0.315   23          0  \n",
       "\n",
       "[768 rows x 9 columns]"
      ]
     },
     "execution_count": 23,
     "metadata": {},
     "output_type": "execute_result"
    }
   ],
   "source": [
    "diabetes_data.rename(columns = {'Outcome':'Diagnosis'}, inplace = True) #ranaming the outcome column to diagnosis\n",
    "\n",
    "diabetes_data"
   ]
  },
  {
   "cell_type": "markdown",
   "id": "4a09fe7d",
   "metadata": {},
   "source": [
    "#### 7. Create a new column Classification that display \"Diabetes\" if the value of outcome is 1 , otherwise \"No Diabetes\" "
   ]
  },
  {
   "cell_type": "code",
   "execution_count": 24,
   "id": "b51f4045",
   "metadata": {},
   "outputs": [
    {
     "data": {
      "text/html": [
       "<div>\n",
       "<style scoped>\n",
       "    .dataframe tbody tr th:only-of-type {\n",
       "        vertical-align: middle;\n",
       "    }\n",
       "\n",
       "    .dataframe tbody tr th {\n",
       "        vertical-align: top;\n",
       "    }\n",
       "\n",
       "    .dataframe thead th {\n",
       "        text-align: right;\n",
       "    }\n",
       "</style>\n",
       "<table border=\"1\" class=\"dataframe\">\n",
       "  <thead>\n",
       "    <tr style=\"text-align: right;\">\n",
       "      <th></th>\n",
       "      <th>Pregnancies</th>\n",
       "      <th>Glucose</th>\n",
       "      <th>BloodPressure</th>\n",
       "      <th>SkinThickness</th>\n",
       "      <th>Insulin</th>\n",
       "      <th>BMI</th>\n",
       "      <th>DiabetesPedigreeFunction</th>\n",
       "      <th>Age</th>\n",
       "      <th>Diagnosis</th>\n",
       "      <th>Classification</th>\n",
       "    </tr>\n",
       "  </thead>\n",
       "  <tbody>\n",
       "    <tr>\n",
       "      <th>1</th>\n",
       "      <td>6</td>\n",
       "      <td>148</td>\n",
       "      <td>72</td>\n",
       "      <td>35</td>\n",
       "      <td>0</td>\n",
       "      <td>33.6</td>\n",
       "      <td>0.627</td>\n",
       "      <td>50</td>\n",
       "      <td>1</td>\n",
       "      <td>Diabetes</td>\n",
       "    </tr>\n",
       "    <tr>\n",
       "      <th>2</th>\n",
       "      <td>1</td>\n",
       "      <td>85</td>\n",
       "      <td>66</td>\n",
       "      <td>29</td>\n",
       "      <td>0</td>\n",
       "      <td>26.6</td>\n",
       "      <td>0.351</td>\n",
       "      <td>31</td>\n",
       "      <td>0</td>\n",
       "      <td>No Diabetes</td>\n",
       "    </tr>\n",
       "    <tr>\n",
       "      <th>3</th>\n",
       "      <td>8</td>\n",
       "      <td>183</td>\n",
       "      <td>64</td>\n",
       "      <td>0</td>\n",
       "      <td>0</td>\n",
       "      <td>23.3</td>\n",
       "      <td>0.672</td>\n",
       "      <td>32</td>\n",
       "      <td>1</td>\n",
       "      <td>Diabetes</td>\n",
       "    </tr>\n",
       "    <tr>\n",
       "      <th>4</th>\n",
       "      <td>1</td>\n",
       "      <td>89</td>\n",
       "      <td>66</td>\n",
       "      <td>23</td>\n",
       "      <td>94</td>\n",
       "      <td>28.1</td>\n",
       "      <td>0.167</td>\n",
       "      <td>21</td>\n",
       "      <td>0</td>\n",
       "      <td>No Diabetes</td>\n",
       "    </tr>\n",
       "    <tr>\n",
       "      <th>5</th>\n",
       "      <td>0</td>\n",
       "      <td>137</td>\n",
       "      <td>40</td>\n",
       "      <td>35</td>\n",
       "      <td>168</td>\n",
       "      <td>43.1</td>\n",
       "      <td>2.288</td>\n",
       "      <td>33</td>\n",
       "      <td>1</td>\n",
       "      <td>Diabetes</td>\n",
       "    </tr>\n",
       "    <tr>\n",
       "      <th>...</th>\n",
       "      <td>...</td>\n",
       "      <td>...</td>\n",
       "      <td>...</td>\n",
       "      <td>...</td>\n",
       "      <td>...</td>\n",
       "      <td>...</td>\n",
       "      <td>...</td>\n",
       "      <td>...</td>\n",
       "      <td>...</td>\n",
       "      <td>...</td>\n",
       "    </tr>\n",
       "    <tr>\n",
       "      <th>764</th>\n",
       "      <td>10</td>\n",
       "      <td>101</td>\n",
       "      <td>76</td>\n",
       "      <td>48</td>\n",
       "      <td>180</td>\n",
       "      <td>32.9</td>\n",
       "      <td>0.171</td>\n",
       "      <td>63</td>\n",
       "      <td>0</td>\n",
       "      <td>No Diabetes</td>\n",
       "    </tr>\n",
       "    <tr>\n",
       "      <th>765</th>\n",
       "      <td>2</td>\n",
       "      <td>122</td>\n",
       "      <td>70</td>\n",
       "      <td>27</td>\n",
       "      <td>0</td>\n",
       "      <td>36.8</td>\n",
       "      <td>0.340</td>\n",
       "      <td>27</td>\n",
       "      <td>0</td>\n",
       "      <td>No Diabetes</td>\n",
       "    </tr>\n",
       "    <tr>\n",
       "      <th>766</th>\n",
       "      <td>5</td>\n",
       "      <td>121</td>\n",
       "      <td>72</td>\n",
       "      <td>23</td>\n",
       "      <td>112</td>\n",
       "      <td>26.2</td>\n",
       "      <td>0.245</td>\n",
       "      <td>30</td>\n",
       "      <td>0</td>\n",
       "      <td>No Diabetes</td>\n",
       "    </tr>\n",
       "    <tr>\n",
       "      <th>767</th>\n",
       "      <td>1</td>\n",
       "      <td>126</td>\n",
       "      <td>60</td>\n",
       "      <td>0</td>\n",
       "      <td>0</td>\n",
       "      <td>30.1</td>\n",
       "      <td>0.349</td>\n",
       "      <td>47</td>\n",
       "      <td>1</td>\n",
       "      <td>Diabetes</td>\n",
       "    </tr>\n",
       "    <tr>\n",
       "      <th>768</th>\n",
       "      <td>1</td>\n",
       "      <td>93</td>\n",
       "      <td>70</td>\n",
       "      <td>31</td>\n",
       "      <td>0</td>\n",
       "      <td>30.4</td>\n",
       "      <td>0.315</td>\n",
       "      <td>23</td>\n",
       "      <td>0</td>\n",
       "      <td>No Diabetes</td>\n",
       "    </tr>\n",
       "  </tbody>\n",
       "</table>\n",
       "<p>768 rows × 10 columns</p>\n",
       "</div>"
      ],
      "text/plain": [
       "     Pregnancies  Glucose  BloodPressure  SkinThickness  Insulin   BMI  \\\n",
       "1              6      148             72             35        0  33.6   \n",
       "2              1       85             66             29        0  26.6   \n",
       "3              8      183             64              0        0  23.3   \n",
       "4              1       89             66             23       94  28.1   \n",
       "5              0      137             40             35      168  43.1   \n",
       "..           ...      ...            ...            ...      ...   ...   \n",
       "764           10      101             76             48      180  32.9   \n",
       "765            2      122             70             27        0  36.8   \n",
       "766            5      121             72             23      112  26.2   \n",
       "767            1      126             60              0        0  30.1   \n",
       "768            1       93             70             31        0  30.4   \n",
       "\n",
       "     DiabetesPedigreeFunction  Age  Diagnosis Classification  \n",
       "1                       0.627   50          1       Diabetes  \n",
       "2                       0.351   31          0    No Diabetes  \n",
       "3                       0.672   32          1       Diabetes  \n",
       "4                       0.167   21          0    No Diabetes  \n",
       "5                       2.288   33          1       Diabetes  \n",
       "..                        ...  ...        ...            ...  \n",
       "764                     0.171   63          0    No Diabetes  \n",
       "765                     0.340   27          0    No Diabetes  \n",
       "766                     0.245   30          0    No Diabetes  \n",
       "767                     0.349   47          1       Diabetes  \n",
       "768                     0.315   23          0    No Diabetes  \n",
       "\n",
       "[768 rows x 10 columns]"
      ]
     },
     "execution_count": 24,
     "metadata": {},
     "output_type": "execute_result"
    }
   ],
   "source": [
    "diabetes_data['Classification'] = np.where(diabetes_data['Diagnosis'] == 1, 'Diabetes', 'No Diabetes')\n",
    "\n",
    "diabetes_data"
   ]
  },
  {
   "cell_type": "markdown",
   "id": "36d250a3",
   "metadata": {},
   "source": [
    "#### 8. Create a new dataframe \"withDiabetes\" that gathers data with diabetes"
   ]
  },
  {
   "cell_type": "code",
   "execution_count": 25,
   "id": "0a5cedb3",
   "metadata": {},
   "outputs": [
    {
     "name": "stdout",
     "output_type": "stream",
     "text": [
      "     Pregnancies  Glucose  BloodPressure  SkinThickness  Insulin   BMI  \\\n",
      "1              6      148             72             35        0  33.6   \n",
      "3              8      183             64              0        0  23.3   \n",
      "5              0      137             40             35      168  43.1   \n",
      "7              3       78             50             32       88  31.0   \n",
      "9              2      197             70             45      543  30.5   \n",
      "..           ...      ...            ...            ...      ...   ...   \n",
      "756            1      128             88             39      110  36.5   \n",
      "758            0      123             72              0        0  36.3   \n",
      "760            6      190             92              0        0  35.5   \n",
      "762            9      170             74             31        0  44.0   \n",
      "767            1      126             60              0        0  30.1   \n",
      "\n",
      "     DiabetesPedigreeFunction  Age  Diagnosis Classification  \n",
      "1                       0.627   50          1       Diabetes  \n",
      "3                       0.672   32          1       Diabetes  \n",
      "5                       2.288   33          1       Diabetes  \n",
      "7                       0.248   26          1       Diabetes  \n",
      "9                       0.158   53          1       Diabetes  \n",
      "..                        ...  ...        ...            ...  \n",
      "756                     1.057   37          1       Diabetes  \n",
      "758                     0.258   52          1       Diabetes  \n",
      "760                     0.278   66          1       Diabetes  \n",
      "762                     0.403   43          1       Diabetes  \n",
      "767                     0.349   47          1       Diabetes  \n",
      "\n",
      "[268 rows x 10 columns]\n"
     ]
    }
   ],
   "source": [
    "withDiabetesDF = pd.DataFrame(diabetes_data[diabetes_data['Diagnosis'] == 1])\n",
    "\n",
    "print(withDiabetesDF)"
   ]
  },
  {
   "cell_type": "markdown",
   "id": "fb5c789b",
   "metadata": {},
   "source": [
    "#### 9. Create a new dataframe \"noDiabetes\" thats gathers data with no diabetes"
   ]
  },
  {
   "cell_type": "code",
   "execution_count": 26,
   "id": "09eec3cc",
   "metadata": {},
   "outputs": [
    {
     "name": "stdout",
     "output_type": "stream",
     "text": [
      "     Pregnancies  Glucose  BloodPressure  SkinThickness  Insulin   BMI  \\\n",
      "2              1       85             66             29        0  26.6   \n",
      "4              1       89             66             23       94  28.1   \n",
      "6              5      116             74              0        0  25.6   \n",
      "8             10      115              0              0        0  35.3   \n",
      "11             4      110             92              0        0  37.6   \n",
      "..           ...      ...            ...            ...      ...   ...   \n",
      "763            9       89             62              0        0  22.5   \n",
      "764           10      101             76             48      180  32.9   \n",
      "765            2      122             70             27        0  36.8   \n",
      "766            5      121             72             23      112  26.2   \n",
      "768            1       93             70             31        0  30.4   \n",
      "\n",
      "     DiabetesPedigreeFunction  Age  Diagnosis Classification  \n",
      "2                       0.351   31          0    No Diabetes  \n",
      "4                       0.167   21          0    No Diabetes  \n",
      "6                       0.201   30          0    No Diabetes  \n",
      "8                       0.134   29          0    No Diabetes  \n",
      "11                      0.191   30          0    No Diabetes  \n",
      "..                        ...  ...        ...            ...  \n",
      "763                     0.142   33          0    No Diabetes  \n",
      "764                     0.171   63          0    No Diabetes  \n",
      "765                     0.340   27          0    No Diabetes  \n",
      "766                     0.245   30          0    No Diabetes  \n",
      "768                     0.315   23          0    No Diabetes  \n",
      "\n",
      "[500 rows x 10 columns]\n"
     ]
    }
   ],
   "source": [
    "NoDiabetesDF = pd.DataFrame(diabetes_data[diabetes_data['Diagnosis'] == 0])\n",
    "\n",
    "print(NoDiabetesDF)"
   ]
  },
  {
   "cell_type": "markdown",
   "id": "82246701",
   "metadata": {},
   "source": [
    "#### 10. Create a new dataframe \"Pedia\" that gathers data with age 0 to 19"
   ]
  },
  {
   "cell_type": "code",
   "execution_count": 27,
   "id": "5a82e149",
   "metadata": {},
   "outputs": [
    {
     "name": "stdout",
     "output_type": "stream",
     "text": [
      "Empty DataFrame\n",
      "Columns: [Pregnancies, Glucose, BloodPressure, SkinThickness, Insulin, BMI, DiabetesPedigreeFunction, Age, Diagnosis, Classification]\n",
      "Index: []\n"
     ]
    }
   ],
   "source": [
    "PediaDF = pd.DataFrame(diabetes_data[diabetes_data['Age'] <= 19])\n",
    "\n",
    "print(PediaDF)"
   ]
  },
  {
   "cell_type": "markdown",
   "id": "fd54c73c",
   "metadata": {},
   "source": [
    "#### 11. Create a new dataframe \"Adult\" that gathers data with age greater than 19"
   ]
  },
  {
   "cell_type": "code",
   "execution_count": 28,
   "id": "3177ee7b",
   "metadata": {},
   "outputs": [
    {
     "name": "stdout",
     "output_type": "stream",
     "text": [
      "     Pregnancies  Glucose  BloodPressure  SkinThickness  Insulin   BMI  \\\n",
      "1              6      148             72             35        0  33.6   \n",
      "2              1       85             66             29        0  26.6   \n",
      "3              8      183             64              0        0  23.3   \n",
      "4              1       89             66             23       94  28.1   \n",
      "5              0      137             40             35      168  43.1   \n",
      "..           ...      ...            ...            ...      ...   ...   \n",
      "764           10      101             76             48      180  32.9   \n",
      "765            2      122             70             27        0  36.8   \n",
      "766            5      121             72             23      112  26.2   \n",
      "767            1      126             60              0        0  30.1   \n",
      "768            1       93             70             31        0  30.4   \n",
      "\n",
      "     DiabetesPedigreeFunction  Age  Diagnosis Classification  \n",
      "1                       0.627   50          1       Diabetes  \n",
      "2                       0.351   31          0    No Diabetes  \n",
      "3                       0.672   32          1       Diabetes  \n",
      "4                       0.167   21          0    No Diabetes  \n",
      "5                       2.288   33          1       Diabetes  \n",
      "..                        ...  ...        ...            ...  \n",
      "764                     0.171   63          0    No Diabetes  \n",
      "765                     0.340   27          0    No Diabetes  \n",
      "766                     0.245   30          0    No Diabetes  \n",
      "767                     0.349   47          1       Diabetes  \n",
      "768                     0.315   23          0    No Diabetes  \n",
      "\n",
      "[768 rows x 10 columns]\n"
     ]
    }
   ],
   "source": [
    "AdultDF = pd.DataFrame(diabetes_data[diabetes_data['Age'] > 19])\n",
    "\n",
    "print(AdultDF)"
   ]
  },
  {
   "cell_type": "markdown",
   "id": "3e2a1147",
   "metadata": {},
   "source": [
    "#### 12. Use numpy to get the average age and glucose value."
   ]
  },
  {
   "cell_type": "code",
   "execution_count": 29,
   "id": "b5d28812",
   "metadata": {},
   "outputs": [
    {
     "name": "stdout",
     "output_type": "stream",
     "text": [
      "average of glucose: 120.89453125\n"
     ]
    }
   ],
   "source": [
    "glucose_ave = np.mean(diabetes_data['Glucose'])\n",
    "\n",
    "print(f'average of glucose: {glucose_ave}')"
   ]
  },
  {
   "cell_type": "markdown",
   "id": "c7810e8e",
   "metadata": {},
   "source": [
    "#### 13. Use numpy to get the median age and glucose value."
   ]
  },
  {
   "cell_type": "code",
   "execution_count": 30,
   "id": "bbd56764",
   "metadata": {},
   "outputs": [
    {
     "name": "stdout",
     "output_type": "stream",
     "text": [
      "median of age column: 29.0\n",
      "median of glucose column: 117.0\n"
     ]
    }
   ],
   "source": [
    "age_median = np.median(diabetes_data['Age'])\n",
    "print(f'median of age column: {age_median}')\n",
    "\n",
    "glucose_median = np.median(diabetes_data['Glucose'])\n",
    "print(f'median of glucose column: {glucose_median}')"
   ]
  },
  {
   "cell_type": "markdown",
   "id": "0f3c3a60",
   "metadata": {},
   "source": [
    "#### 14. Use numpy to get the middle values of glucose and age."
   ]
  },
  {
   "cell_type": "code",
   "execution_count": 31,
   "id": "641628cd",
   "metadata": {},
   "outputs": [
    {
     "name": "stdout",
     "output_type": "stream",
     "text": [
      "median of glucose column: 117.0\n",
      "median of age column: 29.0\n"
     ]
    }
   ],
   "source": [
    "glucose_median = np.median(diabetes_data['Glucose'])\n",
    "print(f'median of glucose column: {glucose_median}')\n",
    "\n",
    "age_median = np.median(diabetes_data['Age'])\n",
    "print(f'median of age column: {age_median}')"
   ]
  },
  {
   "cell_type": "markdown",
   "id": "1436cedf",
   "metadata": {},
   "source": [
    "#### 15. Use numpy to get the standard deviation of the skinthickness\n"
   ]
  },
  {
   "cell_type": "code",
   "execution_count": 32,
   "id": "c3315462",
   "metadata": {},
   "outputs": [
    {
     "name": "stdout",
     "output_type": "stream",
     "text": [
      "Standard deviation of skin thickness: 15.941828626496978\n"
     ]
    }
   ],
   "source": [
    "skinThickness_std = np.std(diabetes_data['SkinThickness'])\n",
    "print(f'Standard deviation of skin thickness: {skinThickness_std}')"
   ]
  },
  {
   "cell_type": "markdown",
   "id": "2a871a74",
   "metadata": {},
   "source": [
    "## Conclusion\n",
    "\n",
    "In this Hands-On activity we reviewed multiple topics (the mean,median,mode,etc.) from our past subjects/courses like math in the modern world from our first year, and Statistics and Probability from our Senior High School level, but in this activity we have used it, or applied those topics in coding and data science, in this activity I have concluded that the statistical tools that we have learned from school are all contained in the python library, those are the numPy and the statistics module,I also observed that the data set that we have used in this case the diabetes.csv file corresponds to a dictionary in python where the column headers are like the keys in the dictionary and the datas under those column are the values and lastly, I have also concluded that we can use our stats in the field of data science."
   ]
  }
 ],
 "metadata": {
  "kernelspec": {
   "display_name": "Python 3 (ipykernel)",
   "language": "python",
   "name": "python3"
  },
  "language_info": {
   "codemirror_mode": {
    "name": "ipython",
    "version": 3
   },
   "file_extension": ".py",
   "mimetype": "text/x-python",
   "name": "python",
   "nbconvert_exporter": "python",
   "pygments_lexer": "ipython3",
   "version": "3.11.5"
  }
 },
 "nbformat": 4,
 "nbformat_minor": 5
}
