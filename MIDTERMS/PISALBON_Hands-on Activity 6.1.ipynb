{
 "cells": [
  {
   "cell_type": "markdown",
   "id": "91e67ff7",
   "metadata": {},
   "source": [
    "# Hands-on Activity 6.1 Introduction to Data Analysis and Tools\n",
    "**CPE311 Computational Thinking with Python** <br>\n",
    "Name: Pisalbon, Ery Jay P. <br>\n",
    "section: CPE22S3  <br>\n",
    "Performed and Submitted on:03/06/2003 <br> \n",
    "Submitted to: Engr. Roman M. Richard <br>"
   ]
  },
  {
   "cell_type": "markdown",
   "id": "04725a57",
   "metadata": {},
   "source": [
    "## ILOs\n",
    "1. use pandas and numpy data analysis tools.\n",
    "2. Demonstrate how to analyze data using numpy and pandas"
   ]
  },
  {
   "cell_type": "markdown",
   "id": "88f1c21f",
   "metadata": {},
   "source": [
    "## Resources\n",
    "• Personal Computer <br>\n",
    "• Jupyter Notebook <br>\n",
    "• Internet Connection <br>"
   ]
  },
  {
   "cell_type": "markdown",
   "id": "7b3ce044",
   "metadata": {},
   "source": [
    "## Supplementary Activities"
   ]
  },
  {
   "cell_type": "markdown",
   "id": "1d7b7a87",
   "metadata": {},
   "source": [
    "### Exercise 1\n",
    "Run the given code below for exercises 1 and 2, perform the given tasks without using any Python modules.\n"
   ]
  },
  {
   "cell_type": "code",
   "execution_count": 1,
   "id": "75f6a551",
   "metadata": {},
   "outputs": [],
   "source": [
    "import random\n",
    "import pandas as pd\n",
    "\n",
    "random.seed(0)\n",
    "\"\"\"make a list that contains 100 elements in it,\n",
    "the elements were randomized and were rounded of to 3\"\"\" \n",
    "salaries = [round(random.random()*1000000, -3) for _ in range(100)] "
   ]
  },
  {
   "cell_type": "code",
   "execution_count": 2,
   "id": "0bbc26aa",
   "metadata": {},
   "outputs": [
    {
     "name": "stdout",
     "output_type": "stream",
     "text": [
      "1      844000.0\n",
      "2      758000.0\n",
      "3      421000.0\n",
      "4      259000.0\n",
      "5      511000.0\n",
      "         ...   \n",
      "96     917000.0\n",
      "97     793000.0\n",
      "98      82000.0\n",
      "99     613000.0\n",
      "100    486000.0\n",
      "Name: Salaries, Length: 100, dtype: float64\n"
     ]
    }
   ],
   "source": [
    "# code for getting the table of the randomly generated numbers in the salaries list\n",
    "salariestbale = pd.Series(salaries, name = 'Salaries')\n",
    "salariestbale.index += 1 # the index should start at 1\n",
    "print(salariestbale)"
   ]
  },
  {
   "cell_type": "code",
   "execution_count": 3,
   "id": "54a06a54",
   "metadata": {},
   "outputs": [
    {
     "name": "stdout",
     "output_type": "stream",
     "text": [
      "630147.3404114728\n",
      "630000.0\n"
     ]
    }
   ],
   "source": [
    "# testing how the code works\n",
    "test = random.random()*1000000\n",
    "print(test)\n",
    "testR = round(test,-3)\n",
    "print(testR)"
   ]
  },
  {
   "cell_type": "markdown",
   "id": "0777808a",
   "metadata": {},
   "source": [
    "#### Mean"
   ]
  },
  {
   "cell_type": "code",
   "execution_count": 4,
   "id": "595c2617",
   "metadata": {},
   "outputs": [
    {
     "name": "stdout",
     "output_type": "stream",
     "text": [
      "585690.0\n"
     ]
    }
   ],
   "source": [
    "# own code\n",
    "def Mmean(data):\n",
    "    sum = 0\n",
    "    for i in data: # loop for adding the datas from the list passed on the funciton\n",
    "        sum += i\n",
    "    dmean = sum/len(data) # getting the mean of the list given by dividing it by its # of elements ( used the len() funciton)\n",
    "    return dmean\n",
    "\n",
    "print(Mmean(salaries))"
   ]
  },
  {
   "cell_type": "code",
   "execution_count": 5,
   "id": "9da3898b",
   "metadata": {},
   "outputs": [
    {
     "data": {
      "text/plain": [
       "585690.0"
      ]
     },
     "execution_count": 5,
     "metadata": {},
     "output_type": "execute_result"
    }
   ],
   "source": [
    "# code from the statistics module\n",
    "from statistics import mean\n",
    "\n",
    "mean(salaries)"
   ]
  },
  {
   "cell_type": "markdown",
   "id": "6c303700",
   "metadata": {},
   "source": [
    "#### Median"
   ]
  },
  {
   "cell_type": "code",
   "execution_count": 6,
   "id": "bd59fcda",
   "metadata": {},
   "outputs": [
    {
     "name": "stdout",
     "output_type": "stream",
     "text": [
      "list is even\n"
     ]
    },
    {
     "data": {
      "text/plain": [
       "589000.0"
      ]
     },
     "execution_count": 6,
     "metadata": {},
     "output_type": "execute_result"
    }
   ],
   "source": [
    "def Mmedian(data):\n",
    "    data.sort() # sorts the data first\n",
    "    median = (len(data)+1)/2 # gets the place value of the median\n",
    "    if len(data)/2 == 1: # if statement if the number of salaries is odd (we can easily get the median)\n",
    "        print('list is odd')\n",
    "        Imedian = median - 1 # gets the index of the median in the list\n",
    "        return data[Imedian]\n",
    "    else: # else statement if the number of salaries is even\n",
    "        print('list is even')\n",
    "        LMedian = int(median) - 1 # getting the first number of the median (trunacating using int)\n",
    "        RMedian = int(median)  # getting the second number of the median\n",
    "        medianEven = (data[LMedian] + data[RMedian])/2 # gets the average number of the two number on the median\n",
    "        return medianEven\n",
    "        \n",
    "Mmedian(salaries) "
   ]
  },
  {
   "cell_type": "code",
   "execution_count": 7,
   "id": "867b2678",
   "metadata": {},
   "outputs": [
    {
     "data": {
      "text/plain": [
       "589000.0"
      ]
     },
     "execution_count": 7,
     "metadata": {},
     "output_type": "execute_result"
    }
   ],
   "source": [
    "from statistics import median as mdn\n",
    "\n",
    "mdn(salaries)"
   ]
  },
  {
   "cell_type": "markdown",
   "id": "eb3519c0",
   "metadata": {},
   "source": [
    "#### Mode"
   ]
  },
  {
   "cell_type": "code",
   "execution_count": 8,
   "id": "6aa74f3f",
   "metadata": {},
   "outputs": [
    {
     "data": {
      "text/plain": [
       "477000.0"
      ]
     },
     "execution_count": 8,
     "metadata": {},
     "output_type": "execute_result"
    }
   ],
   "source": [
    "def mode(data):\n",
    "    frequency = {}\n",
    "    for num in data: # loop for tallying the frequencies in the list\n",
    "        frequency[num] = frequency.get(num, 0) + 1\n",
    "    \n",
    "    max_freq = max(frequency.values())\n",
    "    for val in frequency: # loop for getting the number with the most frequence\n",
    "        if frequency[val] == max_freq: # conditional statement if the frequency of the current value is the same as the max freq\n",
    "            return val # return the element with the most frequencies\n",
    "        \n",
    "mode(salaries)"
   ]
  },
  {
   "cell_type": "code",
   "execution_count": 9,
   "id": "3599b92c",
   "metadata": {},
   "outputs": [
    {
     "data": {
      "text/plain": [
       "477000.0"
      ]
     },
     "execution_count": 9,
     "metadata": {},
     "output_type": "execute_result"
    }
   ],
   "source": [
    "from statistics import mode as md\n",
    "\n",
    "md(salaries)"
   ]
  },
  {
   "cell_type": "markdown",
   "id": "2b66c8f2",
   "metadata": {},
   "source": [
    "#### Sample Variance"
   ]
  },
  {
   "cell_type": "code",
   "execution_count": 10,
   "id": "2682458c",
   "metadata": {},
   "outputs": [
    {
     "data": {
      "text/plain": [
       "70664054444.44444"
      ]
     },
     "execution_count": 10,
     "metadata": {},
     "output_type": "execute_result"
    }
   ],
   "source": [
    "def variance(data):\n",
    "    data.sort() #sorts the data\n",
    "    sample_mean = Mmean(data) # gets the mean\n",
    "    result = 0 \n",
    "    for i in data: # for loop for getting the summation of square of the difference of the element and sample mean\n",
    "        result += (i - sample_mean)**2\n",
    "    return result / (len(data) - 1) # returns the solve sample variance\n",
    "    \n",
    "variance(salaries)"
   ]
  },
  {
   "cell_type": "code",
   "execution_count": 11,
   "id": "e3dbe78a",
   "metadata": {},
   "outputs": [
    {
     "data": {
      "text/plain": [
       "70664054444.44444"
      ]
     },
     "execution_count": 11,
     "metadata": {},
     "output_type": "execute_result"
    }
   ],
   "source": [
    "from statistics import variance as vrnce\n",
    "\n",
    "vrnce(salaries)"
   ]
  },
  {
   "cell_type": "markdown",
   "id": "0a0c6886",
   "metadata": {},
   "source": [
    "#### Sample standard deviation"
   ]
  },
  {
   "cell_type": "code",
   "execution_count": 12,
   "id": "66ace5c0",
   "metadata": {},
   "outputs": [
    {
     "data": {
      "text/plain": [
       "265827.11382484"
      ]
     },
     "execution_count": 12,
     "metadata": {},
     "output_type": "execute_result"
    }
   ],
   "source": [
    "def SD(data):\n",
    "    return variance(data)**0.5 # returns the square root of the variance\n",
    "\n",
    "SD(salaries)"
   ]
  },
  {
   "cell_type": "code",
   "execution_count": 13,
   "id": "2aa42b30",
   "metadata": {},
   "outputs": [
    {
     "data": {
      "text/plain": [
       "265827.11382484"
      ]
     },
     "execution_count": 13,
     "metadata": {},
     "output_type": "execute_result"
    }
   ],
   "source": [
    "from statistics import stdev \n",
    "\n",
    "stdev(salaries)"
   ]
  },
  {
   "cell_type": "markdown",
   "id": "e5075321",
   "metadata": {},
   "source": [
    "### Exercise 2\n",
    "Using the same data, calculate the following statistics using the functions in the statistics module where appropriate:"
   ]
  },
  {
   "cell_type": "markdown",
   "id": "5c934cdb",
   "metadata": {},
   "source": [
    "#### Range"
   ]
  },
  {
   "cell_type": "code",
   "execution_count": 14,
   "id": "7fd4fbdc",
   "metadata": {},
   "outputs": [
    {
     "name": "stdout",
     "output_type": "stream",
     "text": [
      "995000.0\n"
     ]
    }
   ],
   "source": [
    "data_range = max(salaries) - min(salaries)\n",
    "print(data_range)"
   ]
  },
  {
   "cell_type": "markdown",
   "id": "3e34cde4",
   "metadata": {},
   "source": [
    "#### Coefficient of variation interquartile range"
   ]
  },
  {
   "cell_type": "code",
   "execution_count": 17,
   "id": "05c95367",
   "metadata": {},
   "outputs": [
    {
     "name": "stdout",
     "output_type": "stream",
     "text": [
      "list is even\n",
      "list is even\n",
      "Coefficient of Variation (CV): 0.45386998894439035\n",
      "Interquartile Range (IQR): 417500.0\n"
     ]
    }
   ],
   "source": [
    "def Cv(data):\n",
    "    return SD(data) / Mmean(data)\n",
    "def Iqr(data):\n",
    "  # getting the quartiles\n",
    "  q1 = Mmedian(data[:len(data) // 2])\n",
    "  q3 = Mmedian(data[len(data) // 2:])\n",
    "\n",
    "  # Handle equal quartile case for IQR\n",
    "  iqr = 0\n",
    "  if q1 != q3:\n",
    "    iqr = q3 - q1\n",
    "\n",
    "  return  iqr\n",
    "\n",
    "# Calculate CV and IQR\n",
    "iqr = Iqr(salaries)\n",
    "cv = Cv(salaries)\n",
    "# Print the results\n",
    "print(\"Coefficient of Variation (CV):\", cv)\n",
    "print(\"Interquartile Range (IQR):\", iqr)"
   ]
  },
  {
   "cell_type": "markdown",
   "id": "b4b6d0a1",
   "metadata": {},
   "source": [
    "#### Quartile coefficient of dispersion"
   ]
  },
  {
   "cell_type": "code",
   "execution_count": 18,
   "id": "09975790",
   "metadata": {},
   "outputs": [
    {
     "name": "stdout",
     "output_type": "stream",
     "text": [
      "list is even\n",
      "list is even\n",
      "list is even\n",
      "list is even\n",
      "list is even\n",
      "list is even\n",
      "QCD: 0.35441426146010185\n"
     ]
    }
   ],
   "source": [
    "def QCD(data):\n",
    "    return Iqr(data) / (2 * Mmedian(data))\n",
    "\n",
    "QCD(salaries)\n",
    "\n",
    "print('QCD:', QCD(salaries))"
   ]
  },
  {
   "cell_type": "markdown",
   "id": "e9a2f9ce",
   "metadata": {},
   "source": [
    "### Exercise 3"
   ]
  },
  {
   "cell_type": "code",
   "execution_count": null,
   "id": "328464a8",
   "metadata": {
    "scrolled": false
   },
   "outputs": [],
   "source": [
    "import pandas as pd\n",
    "import numpy as np\n",
    "\n",
    "diabetes_data = pd.read_csv('diabetes.csv')\n",
    "diabetes_data.index += 1 # index should start in 1\n",
    "diabetes_data #load the csv"
   ]
  },
  {
   "cell_type": "markdown",
   "id": "72f1ecd7",
   "metadata": {},
   "source": [
    "#### 1. Identify the column names"
   ]
  },
  {
   "cell_type": "code",
   "execution_count": null,
   "id": "ed387741",
   "metadata": {},
   "outputs": [],
   "source": [
    "diabetes_data.columns"
   ]
  },
  {
   "cell_type": "markdown",
   "id": "fa7298ef",
   "metadata": {},
   "source": [
    "#### 2. Identify the data types of the data"
   ]
  },
  {
   "cell_type": "code",
   "execution_count": null,
   "id": "46690709",
   "metadata": {},
   "outputs": [],
   "source": [
    "diabetes_data.dtypes"
   ]
  },
  {
   "cell_type": "markdown",
   "id": "e5ab503e",
   "metadata": {},
   "source": [
    "#### 3. Display the total number of records"
   ]
  },
  {
   "cell_type": "code",
   "execution_count": null,
   "id": "1b20d82a",
   "metadata": {},
   "outputs": [],
   "source": [
    "print('total number of records in diabetes.csv: ', len(diabetes_data))"
   ]
  },
  {
   "cell_type": "markdown",
   "id": "4d79930d",
   "metadata": {},
   "source": [
    "#### 4. Display the first 20 records"
   ]
  },
  {
   "cell_type": "code",
   "execution_count": null,
   "id": "b0028af0",
   "metadata": {},
   "outputs": [],
   "source": [
    "diabetes_data.head(20)"
   ]
  },
  {
   "cell_type": "markdown",
   "id": "03124dd9",
   "metadata": {},
   "source": [
    "#### 5. Display the last 20 records"
   ]
  },
  {
   "cell_type": "code",
   "execution_count": null,
   "id": "e1f04b84",
   "metadata": {},
   "outputs": [],
   "source": [
    "diabetes_data.tail(20)"
   ]
  },
  {
   "cell_type": "markdown",
   "id": "49a927a2",
   "metadata": {},
   "source": [
    "#### 6. Change Outcome column to Diagnosis"
   ]
  },
  {
   "cell_type": "code",
   "execution_count": null,
   "id": "dccf95a3",
   "metadata": {},
   "outputs": [],
   "source": [
    "diabetes_data.rename(columns = {'Outcome':'Diagnosis'}, inplace = True) #ranaming the outcome column to diagnosis\n",
    "\n",
    "diabetes_data"
   ]
  },
  {
   "cell_type": "markdown",
   "id": "1bf63d56",
   "metadata": {},
   "source": [
    "#### 7. Create a new column Classification that display \"Diabetes\" if the value of outcome is 1 , otherwise \"No Diabetes\" "
   ]
  },
  {
   "cell_type": "code",
   "execution_count": null,
   "id": "4b54bf12",
   "metadata": {},
   "outputs": [],
   "source": [
    "diabetes_data['Classification'] = np.where(diabetes_data['Diagnosis'] == 1, 'Diabetes', 'No Diabetes')\n",
    "\n",
    "diabetes_data"
   ]
  },
  {
   "cell_type": "markdown",
   "id": "875cf1c8",
   "metadata": {},
   "source": [
    "#### 8. Create a new dataframe \"withDiabetes\" that gathers data with diabetes"
   ]
  },
  {
   "cell_type": "code",
   "execution_count": null,
   "id": "53dacb2a",
   "metadata": {},
   "outputs": [],
   "source": [
    "withDiabetesDF = pd.DataFrame(diabetes_data[diabetes_data['Diagnosis'] == 1])\n",
    "\n",
    "print(withDiabetesDF)"
   ]
  },
  {
   "cell_type": "markdown",
   "id": "b677fccf",
   "metadata": {},
   "source": [
    "#### 9. Create a new dataframe \"noDiabetes\" thats gathers data with no diabetes"
   ]
  },
  {
   "cell_type": "code",
   "execution_count": null,
   "id": "a0d64c2a",
   "metadata": {},
   "outputs": [],
   "source": [
    "NoDiabetesDF = pd.DataFrame(diabetes_data[diabetes_data['Diagnosis'] == 0])\n",
    "\n",
    "print(NoDiabetesDF)"
   ]
  },
  {
   "cell_type": "markdown",
   "id": "eacfd50f",
   "metadata": {},
   "source": [
    "#### 10. Create a new dataframe \"Pedia\" that gathers data with age 0 to 19"
   ]
  },
  {
   "cell_type": "code",
   "execution_count": null,
   "id": "e8b728b4",
   "metadata": {},
   "outputs": [],
   "source": [
    "PediaDF = pd.DataFrame(diabetes_data[diabetes_data['Age'] <= 19])\n",
    "\n",
    "print(PediaDF)"
   ]
  },
  {
   "cell_type": "markdown",
   "id": "7961ab0d",
   "metadata": {},
   "source": [
    "#### 11. Create a new dataframe \"Adult\" that gathers data with age greater than 19"
   ]
  },
  {
   "cell_type": "code",
   "execution_count": null,
   "id": "32ffe61c",
   "metadata": {},
   "outputs": [],
   "source": [
    "AdultDF = pd.DataFrame(diabetes_data[diabetes_data['Age'] > 19])\n",
    "\n",
    "print(AdultDF)"
   ]
  },
  {
   "cell_type": "markdown",
   "id": "799bf5ea",
   "metadata": {},
   "source": [
    "#### 12. Use numpy to get the average age and glucose value."
   ]
  },
  {
   "cell_type": "code",
   "execution_count": null,
   "id": "d95dafa6",
   "metadata": {},
   "outputs": [],
   "source": [
    "glucose_ave = np.mean(diabetes_data['Glucose'])\n",
    "\n",
    "print(f'average of glucose: {glucose_ave}')"
   ]
  },
  {
   "cell_type": "markdown",
   "id": "9c81adc8",
   "metadata": {},
   "source": [
    "#### 13. Use numpy to get the median age and glucose value."
   ]
  },
  {
   "cell_type": "code",
   "execution_count": null,
   "id": "cef643ee",
   "metadata": {},
   "outputs": [],
   "source": [
    "age_median = np.median(diabetes_data['Age'])\n",
    "print(f'median of age column: {age_median}')\n",
    "\n",
    "glucose_median = np.median(diabetes_data['Glucose'])\n",
    "print(f'median of glucose column: {glucose_median}')"
   ]
  },
  {
   "cell_type": "markdown",
   "id": "6ec431f9",
   "metadata": {},
   "source": [
    "#### 14. Use numpy to get the middle values of glucose and age."
   ]
  },
  {
   "cell_type": "code",
   "execution_count": null,
   "id": "d54b3afe",
   "metadata": {},
   "outputs": [],
   "source": [
    "glucose_median = np.median(diabetes_data['Glucose'])\n",
    "print(f'median of glucose column: {glucose_median}')\n",
    "\n",
    "age_median = np.median(diabetes_data['Age'])\n",
    "print(f'median of age column: {age_median}')"
   ]
  },
  {
   "cell_type": "markdown",
   "id": "6b6aa51c",
   "metadata": {},
   "source": [
    "#### 15. Use numpy to get the standard deviation of the skinthickness\n"
   ]
  },
  {
   "cell_type": "code",
   "execution_count": null,
   "id": "a713d961",
   "metadata": {},
   "outputs": [],
   "source": [
    "skinThickness_std = np.std(diabetes_data['SkinThickness'])\n",
    "print(f'Standard deviation of skin thickness: {skinThickness_std}')"
   ]
  },
  {
   "cell_type": "markdown",
   "id": "6d814666",
   "metadata": {},
   "source": [
    "## Conclusion\n",
    "\n",
    "In this Hands-On activity we reviewed multiple topics (the mean,median,mode,etc.) from our past subjects/courses like math in the modern world from our first year, and Statistics and Probability from our Senior High School level, but in this activity we have used it, or applied those topics in coding and data science, in this activity I have concluded that the statistical tools that we have learned from school are all contained in the python library, those are the numPy and the statistics module,I also observed that the data set that we have used in this case the diabetes.csv file corresponds to a dictionary in python where the column headers are like the keys in the dictionary and the datas under those column are the values and lastly, I have also concluded that we can use our stats in the field of data science."
   ]
  }
 ],
 "metadata": {
  "kernelspec": {
   "display_name": "Python 3 (ipykernel)",
   "language": "python",
   "name": "python3"
  },
  "language_info": {
   "codemirror_mode": {
    "name": "ipython",
    "version": 3
   },
   "file_extension": ".py",
   "mimetype": "text/x-python",
   "name": "python",
   "nbconvert_exporter": "python",
   "pygments_lexer": "ipython3",
   "version": "3.11.5"
  }
 },
 "nbformat": 4,
 "nbformat_minor": 5
}
